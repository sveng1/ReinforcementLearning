{
 "cells": [
  {
   "cell_type": "markdown",
   "metadata": {},
   "source": [
    "# Linear Monte Carlo Prediction"
   ]
  },
  {
   "cell_type": "code",
   "execution_count": 1,
   "metadata": {},
   "outputs": [],
   "source": [
    "import numpy as np\n",
    "import gym"
   ]
  },
  {
   "cell_type": "code",
   "execution_count": 2,
   "metadata": {},
   "outputs": [
    {
     "name": "stdout",
     "output_type": "stream",
     "text": [
      "\u001b[33mWARN: gym.spaces.Box autodetected dtype as <class 'numpy.float32'>. Please provide explicit dtype.\u001b[0m\n"
     ]
    },
    {
     "name": "stderr",
     "output_type": "stream",
     "text": [
      "/Library/Frameworks/Python.framework/Versions/3.6/lib/python3.6/site-packages/gym/envs/registration.py:14: PkgResourcesDeprecationWarning: Parameters to load are deprecated.  Call .resolve and .require separately.\n",
      "  result = entry_point.load(False)\n"
     ]
    }
   ],
   "source": [
    "env = gym.make('MountainCar-v0')"
   ]
  },
  {
   "cell_type": "code",
   "execution_count": 3,
   "metadata": {},
   "outputs": [],
   "source": [
    "def random_policy(state,n_actions):\n",
    "    return np.random.randint(n_actions)"
   ]
  },
  {
   "cell_type": "code",
   "execution_count": 4,
   "metadata": {},
   "outputs": [],
   "source": [
    "def linear_MC_prediction(env,gamma,alpha,n_episodes):\n",
    "    \n",
    "    n_actions = env.action_space.n\n",
    "    \n",
    "    #Initialize value function\n",
    "    def v(s,w):\n",
    "        return np.dot(s,w)\n",
    "    \n",
    "    #Initialize weight vector w\n",
    "    w = 0\n",
    "\n",
    "    #Loop for every episode\n",
    "    for i_episode in range(n_episodes):\n",
    "\n",
    "        observation = env.reset()\n",
    "        state_reward_pairs = []\n",
    "\n",
    "        #Generate episode\n",
    "        for t in range(100):\n",
    "\n",
    "            action = random_policy(observation,n_actions)\n",
    "            old_observation = observation\n",
    "            observation, reward, done, info = env.step(action)\n",
    "            state_reward_pairs.append((old_observation,reward))\n",
    "            if done:\n",
    "                break\n",
    "\n",
    "        #Update value function\n",
    "        G = 0\n",
    "        for state, reward in state_reward_pairs[::-1]:\n",
    "            G = reward + gamma * G\n",
    "            error = G - v(state,w)\n",
    "            gradient = state\n",
    "            w += alpha * error * gradient\n",
    "    return w"
   ]
  },
  {
   "cell_type": "code",
   "execution_count": 6,
   "metadata": {},
   "outputs": [
    {
     "data": {
      "text/plain": [
       "array([18.66226831, -0.53993714])"
      ]
     },
     "execution_count": 6,
     "metadata": {},
     "output_type": "execute_result"
    }
   ],
   "source": [
    "w = linear_MC_prediction(env=env,gamma=0.9,alpha=0.1,n_episodes=1000)\n",
    "w"
   ]
  },
  {
   "cell_type": "code",
   "execution_count": null,
   "metadata": {},
   "outputs": [],
   "source": []
  }
 ],
 "metadata": {
  "kernelspec": {
   "display_name": "Python 3",
   "language": "python",
   "name": "python3"
  },
  "language_info": {
   "codemirror_mode": {
    "name": "ipython",
    "version": 3
   },
   "file_extension": ".py",
   "mimetype": "text/x-python",
   "name": "python",
   "nbconvert_exporter": "python",
   "pygments_lexer": "ipython3",
   "version": "3.6.3"
  }
 },
 "nbformat": 4,
 "nbformat_minor": 2
}
