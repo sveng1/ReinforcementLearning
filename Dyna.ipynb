{
 "cells": [
  {
   "cell_type": "code",
   "execution_count": 1,
   "metadata": {},
   "outputs": [],
   "source": [
    "import numpy as np\n",
    "\n",
    "#Optimal maintenance problem\n",
    "p = np.array([[(0,0)]*2 for i in range(4)])\n",
    "#p[s,a]=(r,s')\n",
    "p[(0,1)]=(-10,0)\n",
    "p[(1,1)]=(-10,0)\n",
    "p[(1,0)]=(-1,1)\n",
    "p[(0,0)]=(0,0)\n",
    "gamma = 0.9\n",
    "\n",
    "def epsilon_greedy_pi(Q,state,epsilon):\n",
    "    if np.random.random() < epsilon:\n",
    "        return np.random.choice(2)\n",
    "    else:\n",
    "        return Q[state,:].argmax()\n",
    "\n",
    "def take_action(state_action):\n",
    "    return p[state_action]\n",
    "\n",
    "def dyna(n, n_timestep, epsilon, alpha, gamma):\n",
    "    Q = np.ones((2,2))\n",
    "    model = np.array([[(0,0)]*2 for i in range(4)])\n",
    "    \n",
    "    observed_s_a = {}\n",
    "    \n",
    "    for i in range(n_timestep):\n",
    "        state = np.random.randint(2)\n",
    "        action = epsilon_greedy_pi(Q,state,epsilon)\n",
    "        \n",
    "        if state in observed_s_a:\n",
    "            observed_s_a[state].append(action)\n",
    "        else:\n",
    "            observed_s_a[state] = [action]\n",
    "\n",
    "        reward, next_state = take_action((state,action))\n",
    "\n",
    "        Q[state,action] += alpha * (reward + gamma * Q[next_state,:].argmax() - Q[state,action])\n",
    "        model[state,action] = [reward,next_state]\n",
    "        \n",
    "        for j in range(n):\n",
    "            state = np.random.choice(list(observed_s_a.keys()))\n",
    "            action = np.random.choice(observed_s_a[state])\n",
    "            \n",
    "            reward, next_state = model[state,action]\n",
    "            Q[state,action] += alpha * (reward + gamma * Q[next_state,:].argmax() - Q[state,action])\n",
    "    \n",
    "    return Q, model"
   ]
  },
  {
   "cell_type": "code",
   "execution_count": 2,
   "metadata": {},
   "outputs": [],
   "source": [
    "Q, model = dyna(n=5, n_timestep=10, epsilon=0.1, alpha=0.1, gamma=0.9)"
   ]
  },
  {
   "cell_type": "code",
   "execution_count": 3,
   "metadata": {},
   "outputs": [
    {
     "name": "stdout",
     "output_type": "stream",
     "text": [
      "[[ 0.05814974 -6.51670238]\n",
      " [-0.25572219 -4.154149  ]]\n"
     ]
    }
   ],
   "source": [
    "print(Q)"
   ]
  },
  {
   "cell_type": "code",
   "execution_count": 4,
   "metadata": {},
   "outputs": [
    {
     "name": "stdout",
     "output_type": "stream",
     "text": [
      "[[[  0   0]\n",
      "  [-10   0]]\n",
      "\n",
      " [[ -1   1]\n",
      "  [-10   0]]\n",
      "\n",
      " [[  0   0]\n",
      "  [  0   0]]\n",
      "\n",
      " [[  0   0]\n",
      "  [  0   0]]]\n"
     ]
    }
   ],
   "source": [
    "print(model)"
   ]
  },
  {
   "cell_type": "code",
   "execution_count": 5,
   "metadata": {},
   "outputs": [
    {
     "data": {
      "text/plain": [
       "array([[[ True,  True],\n",
       "        [ True,  True]],\n",
       "\n",
       "       [[ True,  True],\n",
       "        [ True,  True]],\n",
       "\n",
       "       [[ True,  True],\n",
       "        [ True,  True]],\n",
       "\n",
       "       [[ True,  True],\n",
       "        [ True,  True]]])"
      ]
     },
     "execution_count": 5,
     "metadata": {},
     "output_type": "execute_result"
    }
   ],
   "source": [
    "model == p"
   ]
  },
  {
   "cell_type": "code",
   "execution_count": null,
   "metadata": {},
   "outputs": [],
   "source": []
  }
 ],
 "metadata": {
  "kernelspec": {
   "display_name": "Python 3",
   "language": "python",
   "name": "python3"
  },
  "language_info": {
   "codemirror_mode": {
    "name": "ipython",
    "version": 3
   },
   "file_extension": ".py",
   "mimetype": "text/x-python",
   "name": "python",
   "nbconvert_exporter": "python",
   "pygments_lexer": "ipython3",
   "version": "3.6.3"
  }
 },
 "nbformat": 4,
 "nbformat_minor": 2
}
