{
 "cells": [
  {
   "cell_type": "code",
   "execution_count": 1,
   "metadata": {},
   "outputs": [],
   "source": [
    "import numpy as np\n",
    "import gym\n",
    "env = gym.make('FrozenLake8x8-v0')"
   ]
  },
  {
   "cell_type": "code",
   "execution_count": 2,
   "metadata": {},
   "outputs": [],
   "source": [
    "#state-value function\n",
    "Q = {i:{j:0 for j in range(4)} for i in range(64)}\n",
    "#counter (across episodes)\n",
    "C = {i:{j:0 for j in range(4)} for i in range(64)}\n",
    "\n",
    "gamma = 0.9"
   ]
  },
  {
   "cell_type": "code",
   "execution_count": 3,
   "metadata": {},
   "outputs": [],
   "source": [
    "#behaviour policy mu\n",
    "def mu(state):\n",
    "    return np.random.randint(0,4)\n",
    "\n",
    "#target policy pi\n",
    "def pi(state):\n",
    "    return max(Q[state],key=Q[state].get)"
   ]
  },
  {
   "cell_type": "code",
   "execution_count": 4,
   "metadata": {},
   "outputs": [],
   "source": [
    "for episode in range(20000):\n",
    "    observation = env.reset()\n",
    "    state_action_reward_tuples = []\n",
    "    done = False\n",
    "    \n",
    "    #generate episode using mu\n",
    "    while not done:\n",
    "        action = mu(observation)\n",
    "        old_observation = observation\n",
    "        observation, reward, done, info = env.step(action)\n",
    "        state_action_reward_tuples.append((observation,action,reward))\n",
    "        \n",
    "    G = 0\n",
    "    W = 1\n",
    "    \n",
    "    for state,action,reward in state_action_reward_tuples[::-1]:\n",
    "        G = reward + gamma * G\n",
    "        C[state][action] += W\n",
    "        Q[state][action] += (W/C[state][action])*(G-Q[state][action])\n",
    "        if action != pi(state):\n",
    "            break\n",
    "        W = W * 1/0.25"
   ]
  },
  {
   "cell_type": "code",
   "execution_count": 5,
   "metadata": {},
   "outputs": [
    {
     "data": {
      "text/plain": [
       "{0: {0: 0, 1: 0, 2: 0, 3: 0},\n",
       " 1: {0: 0, 1: 0, 2: 0, 3: 0},\n",
       " 2: {0: 0, 1: 0, 2: 0, 3: 0},\n",
       " 3: {0: 0.0, 1: 0.0, 2: 0.0, 3: 0.0},\n",
       " 4: {0: 0.0, 1: 0.0, 2: 0.0, 3: 0.0},\n",
       " 5: {0: 0, 1: 0.0, 2: 0.0, 3: 0.0},\n",
       " 6: {0: 0, 1: 0, 2: 0, 3: 0.0},\n",
       " 7: {0: 0, 1: 0, 2: 0, 3: 0},\n",
       " 8: {0: 0, 1: 0, 2: 0, 3: 0},\n",
       " 9: {0: 0.0, 1: 0, 2: 0.0, 3: 0},\n",
       " 10: {0: 0, 1: 0, 2: 0.0, 3: 0},\n",
       " 11: {0: 0.0, 1: 0.0, 2: 0.0, 3: 0.0},\n",
       " 12: {0: 0.0, 1: 0.0, 2: 0.0, 3: 0.0},\n",
       " 13: {0: 0.0, 1: 0.0, 2: 0.0, 3: 0.0},\n",
       " 14: {0: 0.0, 1: 0.0, 2: 0.0, 3: 0.0},\n",
       " 15: {0: 0, 1: 0, 2: 0, 3: 0},\n",
       " 16: {0: 0.0, 1: 0.0, 2: 0, 3: 0},\n",
       " 17: {0: 0.0, 1: 0.0, 2: 0.0, 3: 0.0},\n",
       " 18: {0: 0, 1: 0.0, 2: 0.0, 3: 0.0},\n",
       " 19: {0: 0.0, 1: 0.0, 2: 0.0, 3: 0.0},\n",
       " 20: {0: 0.0, 1: 0.0, 2: 0.0, 3: 0.0},\n",
       " 21: {0: 0.0, 1: 0.0, 2: 0.0, 3: 0.0},\n",
       " 22: {0: 0.0, 1: 0.0, 2: 0.0, 3: 0.0},\n",
       " 23: {0: 0.0, 1: 0.0, 2: 0.0, 3: 0.0},\n",
       " 24: {0: 0, 1: 0.0, 2: 0, 3: 0},\n",
       " 25: {0: 0.0, 1: 0.0, 2: 0.0, 3: 0.0},\n",
       " 26: {0: 0.0, 1: 0.0, 2: 0.0, 3: 0.0},\n",
       " 27: {0: 0.0, 1: 0.0, 2: 0.0, 3: 0.0},\n",
       " 28: {0: 0.0, 1: 0.0, 2: 0.0, 3: 0.0},\n",
       " 29: {0: 0.0, 1: 0.0, 2: 0.0, 3: 0.0},\n",
       " 30: {0: 0.46074884816556927, 1: 0.458077090909091, 2: 0.0, 3: 0.0},\n",
       " 31: {0: 0.0, 1: 0.0, 2: 0.4037093553719009, 3: 0.25603902439024395},\n",
       " 32: {0: 0, 1: 0, 2: 0, 3: 0},\n",
       " 33: {0: 0.0, 1: 0.0, 2: 0.0, 3: 0.0},\n",
       " 34: {0: 0.0, 1: 0.0, 2: 0.0, 3: 0.0},\n",
       " 35: {0: 0.0, 1: 0.0, 2: 0.0, 3: 0.0},\n",
       " 36: {0: 0.0, 1: 0.0, 2: 0.0, 3: 0.0},\n",
       " 37: {0: 0.0, 1: 0.0, 2: 0.0, 3: 0.0},\n",
       " 38: {0: 0.0, 1: 0.0, 2: 0.0, 3: 0.0},\n",
       " 39: {0: 0.2916000000000001,\n",
       "  1: 0.5079283200000002,\n",
       "  2: 0.3100631155778895,\n",
       "  3: 0.4486153846153846},\n",
       " 40: {0: 0, 1: 0, 2: 0, 3: 0},\n",
       " 41: {0: 0.0, 1: 0.0, 2: 0.0, 3: 0.0},\n",
       " 42: {0: 0.0, 1: 0.0, 2: 0.0, 3: 0.0},\n",
       " 43: {0: 0.0, 1: 0.0, 2: 0, 3: 0.0},\n",
       " 44: {0: 0.0, 1: 0.0, 2: 0.0, 3: 0.0},\n",
       " 45: {0: 0, 1: 0.0, 2: 0, 3: 0},\n",
       " 46: {0: 0.0, 1: 0.0, 2: 0.0, 3: 0.0},\n",
       " 47: {0: 0.4378378378378378, 1: 0.0, 2: 0.24000000000000002, 3: 0.0},\n",
       " 48: {0: 0, 1: 0, 2: 0, 3: 0},\n",
       " 49: {0: 0.0, 1: 0.0, 2: 0.0, 3: 0.0},\n",
       " 50: {0: 0.0, 1: 0, 2: 0.0, 3: 0.0},\n",
       " 51: {0: 0.0, 1: 0.0, 2: 0, 3: 0},\n",
       " 52: {0: 0.0, 1: 0.0, 2: 0.0, 3: 0.0},\n",
       " 53: {0: 0, 1: 0.0, 2: 0.0, 3: 0},\n",
       " 54: {0: 0.0, 1: 0.0, 2: 0.0, 3: 0.0},\n",
       " 55: {0: 0.6000000000000001,\n",
       "  1: 0.38571428571428573,\n",
       "  2: 0.36000000000000004,\n",
       "  3: 0.0},\n",
       " 56: {0: 0, 1: 0, 2: 0, 3: 0},\n",
       " 57: {0: 0.0, 1: 0.0, 2: 0.0, 3: 0.0},\n",
       " 58: {0: 0.0, 1: 0.0, 2: 0.0, 3: 0},\n",
       " 59: {0: 0.0, 1: 0.0, 2: 0.0, 3: 0.0},\n",
       " 60: {0: 0.0, 1: 0.0, 2: 0, 3: 0.0},\n",
       " 61: {0: 0, 1: 0.0, 2: 0, 3: 0},\n",
       " 62: {0: 0, 1: 0.0, 2: 0, 3: 0},\n",
       " 63: {0: 1.0, 1: 1.0, 2: 1.0, 3: 0}}"
      ]
     },
     "execution_count": 5,
     "metadata": {},
     "output_type": "execute_result"
    }
   ],
   "source": [
    "Q"
   ]
  }
 ],
 "metadata": {
  "kernelspec": {
   "display_name": "Python 3",
   "language": "python",
   "name": "python3"
  },
  "language_info": {
   "codemirror_mode": {
    "name": "ipython",
    "version": 3
   },
   "file_extension": ".py",
   "mimetype": "text/x-python",
   "name": "python",
   "nbconvert_exporter": "python",
   "pygments_lexer": "ipython3",
   "version": "3.6.3"
  }
 },
 "nbformat": 4,
 "nbformat_minor": 2
}
