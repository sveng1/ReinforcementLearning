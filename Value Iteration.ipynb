{
 "cells": [
  {
   "cell_type": "markdown",
   "metadata": {},
   "source": [
    "# Value Iteration"
   ]
  },
  {
   "cell_type": "code",
   "execution_count": 1,
   "metadata": {},
   "outputs": [],
   "source": [
    "# Transition probabilities\n",
    "p = {}\n",
    "#p[s,a]={(r,s'):P(r,s'|s,a)}\n",
    "\n",
    "p[(0,1)]={(-10,0):1}\n",
    "p[(1,1)]={(-10,0):1}\n",
    "p[(1,0)]={(-1,1):1}\n",
    "p[(0,0)]={(0,0):0.95,(0,1):0.05}\n",
    "\n",
    "# Possible states and actions\n",
    "states = [0,1]\n",
    "actions = [0,1]"
   ]
  },
  {
   "cell_type": "code",
   "execution_count": 2,
   "metadata": {},
   "outputs": [],
   "source": [
    "def value_iteration(p,states,actions,gamma):\n",
    "    # initialize state-value function as zeros\n",
    "    V = {0: 0, 1: 0}\n",
    "    counter = 0\n",
    "    \n",
    "    while True:\n",
    "        counter += 1\n",
    "        delta = 0\n",
    "        for s in states:\n",
    "            v = V[s]\n",
    "            values = []\n",
    "            for a in actions:\n",
    "                for key, val in p[(s,a)].items():\n",
    "                    value = 0\n",
    "                    r = key[0]\n",
    "                    s_next = key[1]\n",
    "                value += val*(r+gamma*V[s_next])\n",
    "                values.append(value)\n",
    "            V[s] = max(values)  \n",
    "            delta = max(delta, (v-V[s]))\n",
    "            \n",
    "        if delta < 0.001:\n",
    "            print(\"Stopped at iteration\",counter)\n",
    "            break\n",
    "    return V"
   ]
  },
  {
   "cell_type": "code",
   "execution_count": 3,
   "metadata": {},
   "outputs": [
    {
     "name": "stdout",
     "output_type": "stream",
     "text": [
      "Stopped at iteration 67\n"
     ]
    },
    {
     "data": {
      "text/plain": [
       "{0: -0.4495702477721416, 1: -9.991404955442832}"
      ]
     },
     "execution_count": 3,
     "metadata": {},
     "output_type": "execute_result"
    }
   ],
   "source": [
    "value_iteration(p,states,actions,0.9)"
   ]
  },
  {
   "cell_type": "code",
   "execution_count": 4,
   "metadata": {},
   "outputs": [],
   "source": [
    "# Different gamma values\n",
    "gammas = [0, 0.5, 0.9, 0.90008, 0.90009, 0.901, 0.91, 0.92, 1]"
   ]
  },
  {
   "cell_type": "code",
   "execution_count": 5,
   "metadata": {},
   "outputs": [
    {
     "name": "stdout",
     "output_type": "stream",
     "text": [
      "gamma: 0\n",
      "Stopped at iteration 2\n",
      "V: {0: 0.0, 1: -1} \n",
      "\n",
      "gamma: 0.5\n",
      "Stopped at iteration 11\n",
      "V: {0: -0.049951171875000006, 1: -1.9990234375} \n",
      "\n",
      "gamma: 0.9\n",
      "Stopped at iteration 67\n",
      "V: {0: -0.4495702477721416, 1: -9.991404955442832} \n",
      "\n",
      "gamma: 0.90008\n",
      "Stopped at iteration 67\n",
      "V: {0: -0.4499676549607499, 1: -9.999353099214998} \n",
      "\n",
      "gamma: 0.90009\n",
      "Stopped at iteration 67\n",
      "V: {0: -0.45001737454686463, 1: -10.000347490937292} \n",
      "\n",
      "gamma: 0.901\n",
      "Stopped at iteration 68\n",
      "V: {0: -0.45462917678418, 1: -10.0925835356836} \n",
      "\n",
      "gamma: 0.91\n",
      "Stopped at iteration 32\n",
      "V: {0: -0.4746497424883897, 1: -10.431931265664435} \n",
      "\n",
      "gamma: 0.92\n",
      "Stopped at iteration 24\n",
      "V: {0: -0.48031824121772176, 1: -10.441892781920304} \n",
      "\n",
      "gamma: 1\n",
      "Stopped at iteration 14\n",
      "V: {0: -0.5263125, 1: -10.5263125} \n",
      "\n"
     ]
    }
   ],
   "source": [
    "for g in gammas:\n",
    "    print(\"gamma:\", g)\n",
    "    print(\"V:\", value_iteration(p,states,actions,g),\"\\n\")"
   ]
  },
  {
   "cell_type": "markdown",
   "metadata": {},
   "source": [
    "When gamma is increased from 0.90008 to 0.90009, it no longer matters if you repair or not."
   ]
  }
 ],
 "metadata": {
  "kernelspec": {
   "display_name": "Python 3",
   "language": "python",
   "name": "python3"
  },
  "language_info": {
   "codemirror_mode": {
    "name": "ipython",
    "version": 3
   },
   "file_extension": ".py",
   "mimetype": "text/x-python",
   "name": "python",
   "nbconvert_exporter": "python",
   "pygments_lexer": "ipython3",
   "version": "3.6.3"
  }
 },
 "nbformat": 4,
 "nbformat_minor": 2
}
