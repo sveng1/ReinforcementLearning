{
 "cells": [
  {
   "cell_type": "markdown",
   "metadata": {},
   "source": [
    "# Q-Learning. Off-policy TD control"
   ]
  },
  {
   "cell_type": "code",
   "execution_count": 1,
   "metadata": {},
   "outputs": [],
   "source": [
    "import gym\n",
    "import numpy as np"
   ]
  },
  {
   "cell_type": "code",
   "execution_count": 2,
   "metadata": {},
   "outputs": [
    {
     "name": "stderr",
     "output_type": "stream",
     "text": [
      "/Library/Frameworks/Python.framework/Versions/3.6/lib/python3.6/site-packages/gym/envs/registration.py:14: PkgResourcesDeprecationWarning: Parameters to load are deprecated.  Call .resolve and .require separately.\n",
      "  result = entry_point.load(False)\n"
     ]
    }
   ],
   "source": [
    "env = gym.make('FrozenLake8x8-v0')"
   ]
  },
  {
   "cell_type": "code",
   "execution_count": 3,
   "metadata": {},
   "outputs": [],
   "source": [
    "def epsilon_greedy_policy(Q,state,epsilon,n_actions):\n",
    "    if np.random.random() < epsilon:\n",
    "        return np.random.randint(n_actions)\n",
    "    else:\n",
    "        return Q[state,:].argmax()"
   ]
  },
  {
   "cell_type": "code",
   "execution_count": 4,
   "metadata": {},
   "outputs": [],
   "source": [
    "def Q_learning(env,n_episodes,alpha,gamma,epsilon):\n",
    "    \n",
    "    n_states = env.observation_space.n\n",
    "    n_actions = env.action_space.n\n",
    "\n",
    "    Q = np.zeros((n_states,n_actions))+0.1\n",
    "    Q[n_states-1,:] = np.zeros(n_actions)\n",
    "    \n",
    "    for n in range(n_episodes):\n",
    "        \n",
    "        next_state = env.reset()\n",
    "        done = False\n",
    "        while not done:\n",
    "            state = next_state\n",
    "            action = epsilon_greedy_policy(Q,state,epsilon,n_actions)\n",
    "            next_state,reward,done,info = env.step(action)\n",
    "            Q[state,action] += alpha * (reward + gamma * Q[next_state,:].argmax() - Q[state,action])\n",
    "    \n",
    "    return Q"
   ]
  },
  {
   "cell_type": "code",
   "execution_count": 5,
   "metadata": {},
   "outputs": [
    {
     "data": {
      "text/plain": [
       "array([[1.99236681, 1.83793023, 1.23491803, 2.7       ],\n",
       "       [1.64134898, 2.2444527 , 1.95120927, 2.7       ],\n",
       "       [2.6994459 , 2.66960077, 2.542576  , 2.7       ],\n",
       "       [1.85864416, 1.94512095, 1.95573344, 2.7       ],\n",
       "       [2.30694554, 1.86566338, 2.34722637, 2.7       ],\n",
       "       [2.23212237, 2.2685739 , 2.24860977, 2.7       ],\n",
       "       [2.50299277, 2.47417085, 2.56771712, 2.7       ],\n",
       "       [2.46209172, 2.49723638, 2.25239322, 2.7       ],\n",
       "       [2.07997481, 1.2328554 , 1.60306292, 1.26112269],\n",
       "       [1.36224486, 1.16747659, 1.33361698, 1.17587696],\n",
       "       [0.70629347, 0.48595116, 0.91993192, 0.65716063],\n",
       "       [2.04515494, 0.99120955, 1.10148109, 1.09805401],\n",
       "       [1.13142192, 1.09828432, 1.2971701 , 1.00999074],\n",
       "       [1.64179568, 1.53341692, 2.40398232, 1.62069939],\n",
       "       [1.78591119, 1.38754386, 2.40290915, 1.33652939],\n",
       "       [2.01015927, 2.15894172, 2.49507458, 2.01007455],\n",
       "       [0.9090924 , 0.60729211, 0.41733808, 0.84119873],\n",
       "       [1.4254668 , 0.90611051, 0.56354968, 0.77419563],\n",
       "       [1.11127771, 0.66804454, 0.36750457, 0.41654052],\n",
       "       [0.1       , 0.1       , 0.1       , 0.1       ],\n",
       "       [0.67963405, 1.22197746, 1.0302899 , 0.48598568],\n",
       "       [0.72091795, 0.70489539, 0.93823508, 1.29371125],\n",
       "       [1.07677584, 1.03179646, 1.27786036, 2.37742022],\n",
       "       [1.38160026, 1.44126622, 1.77400897, 2.23705457],\n",
       "       [2.06372614, 0.74098715, 1.48333006, 0.61567861],\n",
       "       [0.48245783, 0.62542358, 1.34711088, 0.53799158],\n",
       "       [0.89029233, 0.82603363, 0.80225997, 0.61923756],\n",
       "       [0.0531441 , 0.79765954, 0.48548907, 0.38412   ],\n",
       "       [0.7173621 , 0.67409816, 1.21662074, 0.75374725],\n",
       "       [0.1       , 0.1       , 0.1       , 0.1       ],\n",
       "       [1.5714839 , 0.547749  , 0.83713388, 0.197559  ],\n",
       "       [1.54669981, 0.61161077, 0.3374541 , 0.394659  ],\n",
       "       [0.717853  , 0.62330215, 0.32015461, 1.21449361],\n",
       "       [1.060185  , 1.26630774, 0.4802652 , 1.22485435],\n",
       "       [0.63398395, 0.14081194, 0.22932963, 0.65184292],\n",
       "       [0.1       , 0.1       , 0.1       , 0.1       ],\n",
       "       [0.39141   , 0.1121931 , 0.3551943 , 1.01459748],\n",
       "       [0.98239028, 1.70887025, 0.3159    , 0.081     ],\n",
       "       [0.29992133, 0.351     , 1.05338502, 0.72683088],\n",
       "       [0.374949  , 0.678879  , 0.1458    , 1.52130793],\n",
       "       [1.32022802, 0.081     , 0.27      , 0.2349    ],\n",
       "       [0.1       , 0.1       , 0.1       , 0.1       ],\n",
       "       [0.1       , 0.1       , 0.1       , 0.1       ],\n",
       "       [0.081     , 0.081     , 1.09278501, 0.09      ],\n",
       "       [1.14032011, 0.09      , 0.081     , 0.09      ],\n",
       "       [0.346924  , 0.09      , 0.0729    , 0.06561   ],\n",
       "       [0.1       , 0.1       , 0.1       , 0.1       ],\n",
       "       [0.34992   , 0.1       , 0.1       , 0.1       ],\n",
       "       [0.09      , 0.88567415, 0.09      , 0.1       ],\n",
       "       [0.1       , 0.1       , 0.1       , 0.1       ],\n",
       "       [0.13122   , 0.09      , 0.1       , 0.1       ],\n",
       "       [0.09      , 0.09      , 0.09      , 0.308367  ],\n",
       "       [0.1       , 0.1       , 0.1       , 0.1       ],\n",
       "       [0.06561   , 0.06561   , 0.0729    , 0.0729    ],\n",
       "       [0.1       , 0.1       , 0.1       , 0.1       ],\n",
       "       [0.1       , 0.1       , 0.1       , 0.1       ],\n",
       "       [0.09      , 0.5607    , 1.11664497, 0.1       ],\n",
       "       [0.09      , 0.09      , 0.77668416, 0.1       ],\n",
       "       [0.09      , 0.6798423 , 0.1458    , 0.1       ],\n",
       "       [0.1       , 0.1       , 0.1       , 0.1       ],\n",
       "       [0.09      , 0.28512   , 0.1       , 0.1       ],\n",
       "       [0.09      , 0.18      , 0.1       , 0.1       ],\n",
       "       [0.1       , 0.1       , 0.1       , 0.1       ],\n",
       "       [0.        , 0.        , 0.        , 0.        ]])"
      ]
     },
     "execution_count": 5,
     "metadata": {},
     "output_type": "execute_result"
    }
   ],
   "source": [
    "Q_learning(env,n_episodes=2000,alpha=0.1,gamma=0.9,epsilon=0.1)"
   ]
  },
  {
   "cell_type": "code",
   "execution_count": null,
   "metadata": {},
   "outputs": [],
   "source": []
  }
 ],
 "metadata": {
  "kernelspec": {
   "display_name": "Python 3",
   "language": "python",
   "name": "python3"
  },
  "language_info": {
   "codemirror_mode": {
    "name": "ipython",
    "version": 3
   },
   "file_extension": ".py",
   "mimetype": "text/x-python",
   "name": "python",
   "nbconvert_exporter": "python",
   "pygments_lexer": "ipython3",
   "version": "3.6.3"
  }
 },
 "nbformat": 4,
 "nbformat_minor": 2
}
