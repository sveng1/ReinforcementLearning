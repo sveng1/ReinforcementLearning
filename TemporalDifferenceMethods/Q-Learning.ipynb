{
 "cells": [
  {
   "cell_type": "markdown",
   "metadata": {},
   "source": [
    "# Q-Learning. Off-policy TD control"
   ]
  },
  {
   "cell_type": "code",
   "execution_count": null,
   "metadata": {},
   "outputs": [],
   "source": [
    "import gym\n",
    "import numpy as np"
   ]
  },
  {
   "cell_type": "code",
   "execution_count": null,
   "metadata": {},
   "outputs": [],
   "source": [
    "env = gym.make('FrozenLake8x8-v0')"
   ]
  },
  {
   "cell_type": "code",
   "execution_count": null,
   "metadata": {},
   "outputs": [],
   "source": [
    "def epsilon_greedy_policy(Q,state,epsilon,n_actions):\n",
    "    if np.random.random() < epsilon:\n",
    "        return np.random.randint(n_actions)\n",
    "    else:\n",
    "        return Q[state,:].argmax()"
   ]
  },
  {
   "cell_type": "code",
   "execution_count": null,
   "metadata": {},
   "outputs": [],
   "source": [
    "def Q_learning(env,n_episodes,alpha,gamma,epsilon):\n",
    "    \n",
    "    n_states = env.observation_space.n\n",
    "    n_actions = env.action_space.n\n",
    "\n",
    "    Q = np.zeros((n_states,n_actions))\n",
    "    Q[n_states-1,:] = np.zeros(n_actions)\n",
    "    \n",
    "    for n in range(n_episodes):\n",
    "        \n",
    "        next_state = env.reset()\n",
    "        done = False\n",
    "        while not done:\n",
    "            state = next_state\n",
    "            action = epsilon_greedy_policy(Q,state,epsilon,n_actions)\n",
    "            next_state,reward,done,info = env.step(action)\n",
    "            Q[state,action] += alpha * (reward + gamma * Q[next_state,:].argmax() - Q[state,action])\n",
    "    \n",
    "    return Q"
   ]
  },
  {
   "cell_type": "code",
   "execution_count": null,
   "metadata": {},
   "outputs": [],
   "source": [
    "Q = Q_learning(env,n_episodes=20000,alpha=0.2,gamma=0.9,epsilon=0.1)"
   ]
  },
  {
   "cell_type": "markdown",
   "metadata": {},
   "source": [
    "### TEST"
   ]
  },
  {
   "cell_type": "code",
   "execution_count": null,
   "metadata": {},
   "outputs": [],
   "source": [
    "def test(n_episodes,Q):\n",
    "    rewards = []\n",
    "    for i_episode in range(n_episodes):\n",
    "        observation = env.reset()\n",
    "        for t in range(100):\n",
    "            action = Q[observation,:].argmax()\n",
    "            observation, reward, done, info = env.step(action)\n",
    "            rewards.append(reward)\n",
    "            if done:\n",
    "                if reward == 1:\n",
    "                    print(\"won\")\n",
    "                break\n",
    "    return np.mean(rewards)"
   ]
  },
  {
   "cell_type": "code",
   "execution_count": null,
   "metadata": {},
   "outputs": [],
   "source": [
    "test(100,Q)"
   ]
  },
  {
   "cell_type": "code",
   "execution_count": null,
   "metadata": {},
   "outputs": [],
   "source": [
    "Q[20,:]"
   ]
  }
 ],
 "metadata": {
  "kernelspec": {
   "display_name": "Python 3",
   "language": "python",
   "name": "python3"
  },
  "language_info": {
   "codemirror_mode": {
    "name": "ipython",
    "version": 3
   },
   "file_extension": ".py",
   "mimetype": "text/x-python",
   "name": "python",
   "nbconvert_exporter": "python",
   "pygments_lexer": "ipython3",
   "version": "3.6.3"
  }
 },
 "nbformat": 4,
 "nbformat_minor": 2
}
