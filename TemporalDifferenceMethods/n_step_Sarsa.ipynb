{
 "cells": [
  {
   "cell_type": "code",
   "execution_count": null,
   "metadata": {},
   "outputs": [],
   "source": [
    "import gym\n",
    "import numpy as np"
   ]
  },
  {
   "cell_type": "code",
   "execution_count": null,
   "metadata": {},
   "outputs": [],
   "source": [
    "env = gym.make('FrozenLake8x8-v0')"
   ]
  },
  {
   "cell_type": "code",
   "execution_count": null,
   "metadata": {},
   "outputs": [],
   "source": [
    "def epsilon_greedy_policy(Q,state,epsilon):\n",
    "    if np.random.random() < epsilon:\n",
    "        return np.random.randint(Q.shape[1])\n",
    "    else:\n",
    "        return Q[state,:].argmax()"
   ]
  },
  {
   "cell_type": "code",
   "execution_count": null,
   "metadata": {},
   "outputs": [],
   "source": [
    "def n_step_sarsa(env,n,n_episodes,alpha,gamma,epsilon):\n",
    "    \n",
    "    n_states = env.observation_space.n\n",
    "    n_actions = env.action_space.n\n",
    "    \n",
    "    Q = np.zeros((n_states,n_actions))+0.1\n",
    "    \n",
    "    for episode in range(n_episodes):\n",
    "        S = {}\n",
    "        A = {}\n",
    "        R = {}\n",
    "        \n",
    "        t = 0\n",
    "        T = np.inf      \n",
    "        \n",
    "        state = env.reset()\n",
    "        \n",
    "        while True:\n",
    "            if t < T:\n",
    "                action = epsilon_greedy_policy(Q,state,epsilon)\n",
    "                S[t] = state\n",
    "                A[t] = action\n",
    "                state, reward, done, info = env.step(action)\n",
    "                R[t] = reward\n",
    "\n",
    "                if done:\n",
    "                    T = t+1\n",
    "            \n",
    "            tau = t-n\n",
    "            if tau >= 0:\n",
    "                G = np.sum([gamma**(i-tau-1)* R[i] for i in range(tau+1,min(tau+n,T))])\n",
    "                if tau+n<T:\n",
    "                    G += gamma**n * Q[S[tau+n],A[tau+n]]\n",
    "                Q[S[tau],A[tau]] += alpha * (G - Q[S[tau],A[tau]])\n",
    "            \n",
    "            t += 1\n",
    "            if tau == T-1:\n",
    "                break\n",
    "    Q[Q==0.1] = 0\n",
    "    return Q"
   ]
  },
  {
   "cell_type": "code",
   "execution_count": null,
   "metadata": {},
   "outputs": [],
   "source": [
    "Q = n_step_sarsa(env,3,20000,0.5,0.9,0.1)"
   ]
  },
  {
   "cell_type": "code",
   "execution_count": null,
   "metadata": {},
   "outputs": [],
   "source": [
    "Q"
   ]
  },
  {
   "cell_type": "code",
   "execution_count": null,
   "metadata": {},
   "outputs": [],
   "source": []
  }
 ],
 "metadata": {
  "kernelspec": {
   "display_name": "Python 3",
   "language": "python",
   "name": "python3"
  },
  "language_info": {
   "codemirror_mode": {
    "name": "ipython",
    "version": 3
   },
   "file_extension": ".py",
   "mimetype": "text/x-python",
   "name": "python",
   "nbconvert_exporter": "python",
   "pygments_lexer": "ipython3",
   "version": "3.6.3"
  }
 },
 "nbformat": 4,
 "nbformat_minor": 2
}
