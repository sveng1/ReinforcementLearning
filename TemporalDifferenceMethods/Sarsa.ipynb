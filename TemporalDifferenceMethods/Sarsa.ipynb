{
 "cells": [
  {
   "cell_type": "markdown",
   "metadata": {},
   "source": [
    "# Sarsa. On-policy TD control"
   ]
  },
  {
   "cell_type": "code",
   "execution_count": 1,
   "metadata": {},
   "outputs": [],
   "source": [
    "import numpy as np\n",
    "import gym"
   ]
  },
  {
   "cell_type": "code",
   "execution_count": 2,
   "metadata": {},
   "outputs": [
    {
     "name": "stderr",
     "output_type": "stream",
     "text": [
      "/Library/Frameworks/Python.framework/Versions/3.6/lib/python3.6/site-packages/gym/envs/registration.py:14: PkgResourcesDeprecationWarning: Parameters to load are deprecated.  Call .resolve and .require separately.\n",
      "  result = entry_point.load(False)\n"
     ]
    }
   ],
   "source": [
    "env = gym.make('FrozenLake8x8-v0')"
   ]
  },
  {
   "cell_type": "code",
   "execution_count": 3,
   "metadata": {},
   "outputs": [],
   "source": [
    "def sarsa(n_episodes, env, gamma, alpha, epsilon):\n",
    "    \n",
    "    n_states = env.observation_space.n\n",
    "    n_actions = env.action_space.n\n",
    "    \n",
    "    #initialize action-value function\n",
    "    Q = np.zeros((n_states,n_actions)) + 0.5\n",
    "    for episode in range(n_episodes):\n",
    "        observation = env.reset()\n",
    "        action = None\n",
    "        done = False\n",
    "        #generate episode\n",
    "        while not done:\n",
    "            observation_old = observation\n",
    "            action_old = action\n",
    "            if np.random.random() < epsilon:\n",
    "                action = env.action_space.sample()\n",
    "            else:\n",
    "                action = Q[observation,:].argmax()\n",
    "            observation,reward,done,info = env.step(action)\n",
    "            Q[observation_old,action_old] += alpha *(reward + gamma * Q[observation,action] - Q[observation_old,action_old])\n",
    "\n",
    "    return Q"
   ]
  },
  {
   "cell_type": "code",
   "execution_count": 4,
   "metadata": {},
   "outputs": [],
   "source": [
    "gamma = 0.9\n",
    "alpha = 0.2\n",
    "epsilon = 0.1\n",
    "Q = sarsa(20000,env,gamma,alpha,epsilon)"
   ]
  },
  {
   "cell_type": "markdown",
   "metadata": {},
   "source": [
    "### TEST"
   ]
  },
  {
   "cell_type": "code",
   "execution_count": 5,
   "metadata": {},
   "outputs": [],
   "source": [
    "def test(n_episodes,Q):\n",
    "    wins = 0\n",
    "    for i_episode in range(n_episodes):\n",
    "        observation = env.reset()\n",
    "        for t in range(100):\n",
    "            action = Q[observation,:].argmax()\n",
    "            observation, reward, done, info = env.step(action)\n",
    "            if done:\n",
    "                if reward == 1:\n",
    "                    wins += 1\n",
    "                break\n",
    "    return wins"
   ]
  },
  {
   "cell_type": "code",
   "execution_count": 7,
   "metadata": {},
   "outputs": [
    {
     "data": {
      "text/plain": [
       "0"
      ]
     },
     "execution_count": 7,
     "metadata": {},
     "output_type": "execute_result"
    }
   ],
   "source": [
    "test(1000,Q)"
   ]
  },
  {
   "cell_type": "code",
   "execution_count": 8,
   "metadata": {},
   "outputs": [
    {
     "name": "stdout",
     "output_type": "stream",
     "text": [
      "alpha: 0.1\n",
      "wins 2\n",
      "\n",
      "alpha: 0.2\n",
      "wins 0\n",
      "\n",
      "alpha: 0.30000000000000004\n",
      "wins 2\n",
      "\n",
      "alpha: 0.4\n",
      "wins 1\n",
      "\n",
      "alpha: 0.5\n",
      "wins 0\n",
      "\n",
      "alpha: 0.6\n",
      "wins 0\n",
      "\n",
      "alpha: 0.7000000000000001\n",
      "wins 4\n",
      "\n",
      "alpha: 0.8\n",
      "wins 0\n",
      "\n",
      "alpha: 0.9\n",
      "wins 1\n",
      "\n"
     ]
    }
   ],
   "source": [
    "alphas = np.linspace(0.1, 0.9, num=9)\n",
    "for a in alphas:\n",
    "    print(\"alpha:\",a)\n",
    "    Q = sarsa(10000,env,gamma=0.9,alpha=a,epsilon=0.1)\n",
    "    print(\"wins\",test(100,Q))\n",
    "    print()"
   ]
  },
  {
   "cell_type": "code",
   "execution_count": 9,
   "metadata": {},
   "outputs": [
    {
     "name": "stdout",
     "output_type": "stream",
     "text": [
      "epsilon: 0.1\n",
      "wins 0\n",
      "\n",
      "epsilon: 0.2\n",
      "wins 0\n",
      "\n",
      "epsilon: 0.30000000000000004\n",
      "wins 0\n",
      "\n",
      "epsilon: 0.4\n",
      "wins 0\n",
      "\n",
      "epsilon: 0.5\n",
      "wins 0\n",
      "\n",
      "epsilon: 0.6\n",
      "wins 0\n",
      "\n",
      "epsilon: 0.7000000000000001\n",
      "wins 0\n",
      "\n",
      "epsilon: 0.8\n",
      "wins 0\n",
      "\n",
      "epsilon: 0.9\n",
      "wins 0\n",
      "\n"
     ]
    }
   ],
   "source": [
    "epsilons = np.linspace(0.1, 0.9, num=9)\n",
    "for e in epsilons:\n",
    "    print(\"epsilon:\",e)\n",
    "    Q = sarsa(10000,env,gamma=0.9,alpha=0.1,epsilon=e)\n",
    "    print(\"wins\",test(100,Q))\n",
    "    print()"
   ]
  },
  {
   "cell_type": "code",
   "execution_count": null,
   "metadata": {},
   "outputs": [],
   "source": []
  }
 ],
 "metadata": {
  "kernelspec": {
   "display_name": "Python 3",
   "language": "python",
   "name": "python3"
  },
  "language_info": {
   "codemirror_mode": {
    "name": "ipython",
    "version": 3
   },
   "file_extension": ".py",
   "mimetype": "text/x-python",
   "name": "python",
   "nbconvert_exporter": "python",
   "pygments_lexer": "ipython3",
   "version": "3.6.3"
  }
 },
 "nbformat": 4,
 "nbformat_minor": 2
}
