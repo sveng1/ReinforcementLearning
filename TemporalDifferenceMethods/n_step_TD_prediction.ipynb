{
 "cells": [
  {
   "cell_type": "code",
   "execution_count": null,
   "metadata": {},
   "outputs": [],
   "source": [
    "import gym\n",
    "import numpy as np"
   ]
  },
  {
   "cell_type": "code",
   "execution_count": null,
   "metadata": {},
   "outputs": [],
   "source": [
    "env = gym.make('FrozenLake8x8-v0')"
   ]
  },
  {
   "cell_type": "code",
   "execution_count": null,
   "metadata": {},
   "outputs": [],
   "source": [
    "def random_policy(n_actions):\n",
    "    return np.random.randint(n_actions)"
   ]
  },
  {
   "cell_type": "code",
   "execution_count": null,
   "metadata": {},
   "outputs": [],
   "source": [
    "def n_step_TD_prediction(env,n,n_episodes,alpha,gamma):\n",
    "    n_states = env.observation_space.n\n",
    "    n_actions = env.action_space.n\n",
    "    \n",
    "    V = np.zeros((n_states))\n",
    "    \n",
    "    for episode in range(n_episodes):\n",
    "        \n",
    "        state = env.reset()\n",
    "        T = np.inf\n",
    "        t = 0\n",
    "        rewards = {}\n",
    "        states = {}\n",
    "        while True:\n",
    "            if t<T:\n",
    "                action = random_policy(n_actions)\n",
    "                states[t] = state\n",
    "                state, reward, done, info = env.step(action)\n",
    "                rewards[t] = reward\n",
    "                if done:\n",
    "                    T = t+1\n",
    "        \n",
    "            tau = t-n #+1 #state at this timestep will be updated. Not sure what the +1 was for\n",
    "            if tau >= 0: #check if tau has come to the start state yet\n",
    "                G = np.sum([gamma**(i-tau-1) * rewards[i] for i in range(tau+1,min(tau+n,T))]) #rewards seen on n steps\n",
    "                if tau+n < T:\n",
    "                    G += gamma**n * V[states[tau+n]] #remaining return is bootstrapped\n",
    "                V[states[tau]] += alpha * (G-V[states[tau]])\n",
    "            t += 1\n",
    "            if tau == T-1:\n",
    "                break\n",
    "    return V"
   ]
  },
  {
   "cell_type": "code",
   "execution_count": null,
   "metadata": {},
   "outputs": [],
   "source": [
    "V = n_step_TD_prediction(env,5,20000,0.5,0.9)"
   ]
  },
  {
   "cell_type": "code",
   "execution_count": null,
   "metadata": {},
   "outputs": [],
   "source": [
    "V"
   ]
  },
  {
   "cell_type": "code",
   "execution_count": null,
   "metadata": {},
   "outputs": [],
   "source": []
  }
 ],
 "metadata": {
  "kernelspec": {
   "display_name": "Python 3",
   "language": "python",
   "name": "python3"
  },
  "language_info": {
   "codemirror_mode": {
    "name": "ipython",
    "version": 3
   },
   "file_extension": ".py",
   "mimetype": "text/x-python",
   "name": "python",
   "nbconvert_exporter": "python",
   "pygments_lexer": "ipython3",
   "version": "3.6.3"
  }
 },
 "nbformat": 4,
 "nbformat_minor": 2
}
