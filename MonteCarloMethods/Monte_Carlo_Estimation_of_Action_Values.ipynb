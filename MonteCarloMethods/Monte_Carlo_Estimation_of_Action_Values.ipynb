{
 "cells": [
  {
   "cell_type": "markdown",
   "metadata": {},
   "source": [
    "# Monte Carlo estimation of action values"
   ]
  },
  {
   "cell_type": "code",
   "execution_count": null,
   "metadata": {},
   "outputs": [],
   "source": [
    "import numpy as np\n",
    "import gym"
   ]
  },
  {
   "cell_type": "code",
   "execution_count": null,
   "metadata": {},
   "outputs": [],
   "source": [
    "env = gym.make('FrozenLake8x8-v0')"
   ]
  },
  {
   "cell_type": "code",
   "execution_count": null,
   "metadata": {},
   "outputs": [],
   "source": [
    "#define random policy\n",
    "def policy(s):\n",
    "    return np.random.randint(0,4)"
   ]
  },
  {
   "cell_type": "code",
   "execution_count": null,
   "metadata": {},
   "outputs": [],
   "source": [
    "def mc_estimation_action_values(n_episodes,env,gamma):\n",
    "    \n",
    "    n_states = env.observation_space.n\n",
    "    n_actions = env.action_space.n\n",
    "    \n",
    "    #initialize action-value function\n",
    "    Q = np.zeros((n_states,n_actions))\n",
    "    #initialize state-action visit counter\n",
    "    N = np.zeros((n_states,n_actions))\n",
    "    \n",
    "    for episode in range(n_episodes):\n",
    "        observation = env.reset()\n",
    "        state_action_reward_tuples = []\n",
    "        #Generate episode\n",
    "        for t in range(100):\n",
    "            action = policy(observation)\n",
    "            old_observation = observation\n",
    "            observation, reward, done, info = env.step(action)\n",
    "            state_action_reward_tuples.append((old_observation,action,reward))\n",
    "            if done:\n",
    "                break\n",
    "    \n",
    "        G = 0\n",
    "        for state,action,reward in state_action_reward_tuples[::-1]:\n",
    "            G = reward + gamma * G\n",
    "            N[state][action] += 1\n",
    "            Q[state][action] = (Q[state][action] + G) / N[state][action]\n",
    "            \n",
    "    return Q"
   ]
  },
  {
   "cell_type": "code",
   "execution_count": null,
   "metadata": {},
   "outputs": [],
   "source": [
    "gamma = 0.9\n",
    "Q = mc_estimation_action_values(20000,env,gamma)"
   ]
  },
  {
   "cell_type": "code",
   "execution_count": null,
   "metadata": {},
   "outputs": [],
   "source": [
    "Q[3]"
   ]
  }
 ],
 "metadata": {
  "kernelspec": {
   "display_name": "Python 3",
   "language": "python",
   "name": "python3"
  },
  "language_info": {
   "codemirror_mode": {
    "name": "ipython",
    "version": 3
   },
   "file_extension": ".py",
   "mimetype": "text/x-python",
   "name": "python",
   "nbconvert_exporter": "python",
   "pygments_lexer": "ipython3",
   "version": "3.6.3"
  }
 },
 "nbformat": 4,
 "nbformat_minor": 2
}
