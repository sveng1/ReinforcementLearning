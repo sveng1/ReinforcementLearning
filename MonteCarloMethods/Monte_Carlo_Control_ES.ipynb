{
 "cells": [
  {
   "cell_type": "markdown",
   "metadata": {},
   "source": [
    "# Monte Carlo control with exploring starts"
   ]
  },
  {
   "cell_type": "code",
   "execution_count": null,
   "metadata": {},
   "outputs": [],
   "source": [
    "import numpy as np\n",
    "import gym"
   ]
  },
  {
   "cell_type": "code",
   "execution_count": null,
   "metadata": {},
   "outputs": [],
   "source": [
    "env = gym.make('FrozenLake8x8-v0')"
   ]
  },
  {
   "cell_type": "code",
   "execution_count": null,
   "metadata": {},
   "outputs": [],
   "source": [
    "def mc_control_ES(n_episodes, env, gamma):\n",
    "    \n",
    "    n_states = env.observation_space.n\n",
    "    n_actions = env.action_space.n\n",
    "    \n",
    "    #initialize action-value function\n",
    "    Q = np.zeros((n_states,n_actions))\n",
    "    \n",
    "    #initialize state-action visit counter\n",
    "    N = np.zeros((n_states,n_actions))\n",
    "    \n",
    "    #initialize policy\n",
    "    pi = np.zeros((n_states))\n",
    "    \n",
    "    for episode in range(n_episodes):\n",
    "        #Exploring starts: We start with random state and random action\n",
    "        state = np.random.randint(0,64)\n",
    "        action = np.random.randint(0,4)\n",
    "        env.reset()\n",
    "        env.env.s = state\n",
    "        observation,reward,done,info = env.step(action)\n",
    "        state_action_reward_tuples = [(state,action,reward)]\n",
    "        t = 0\n",
    "        #generate episode\n",
    "        while not done:\n",
    "            action = int(pi[observation])\n",
    "            old_observation = observation\n",
    "            observation, reward, done, info = env.step(action)\n",
    "            state_action_reward_tuples.append((old_observation,action,reward))\n",
    "            t = t + 1\n",
    "            if done or t == 99:\n",
    "                break\n",
    "        \n",
    "        G = 0\n",
    "        visited_states = []\n",
    "        for state,action,reward in state_action_reward_tuples[::-1]:\n",
    "            visited_states.append(state)\n",
    "            G = reward + gamma * G\n",
    "            N[state,action] += 1\n",
    "            Q[state,action] = (Q[state,action] + G) / N[state,action]\n",
    "            \n",
    "        for state in list(set(visited_states)):\n",
    "            best_value = -10000000000\n",
    "            best_action = None\n",
    "            for action in range(4):\n",
    "                if Q[state][action]>best_value:\n",
    "                    best_value = Q[state][action]\n",
    "                    best_action = action\n",
    "            pi[state] = best_action\n",
    "            \n",
    "    return pi"
   ]
  },
  {
   "cell_type": "code",
   "execution_count": null,
   "metadata": {},
   "outputs": [],
   "source": [
    "gamma = 0.9\n",
    "policy = mc_control_ES(20000,env,gamma)"
   ]
  },
  {
   "cell_type": "code",
   "execution_count": null,
   "metadata": {},
   "outputs": [],
   "source": [
    "policy"
   ]
  }
 ],
 "metadata": {
  "kernelspec": {
   "display_name": "Python 3",
   "language": "python",
   "name": "python3"
  },
  "language_info": {
   "codemirror_mode": {
    "name": "ipython",
    "version": 3
   },
   "file_extension": ".py",
   "mimetype": "text/x-python",
   "name": "python",
   "nbconvert_exporter": "python",
   "pygments_lexer": "ipython3",
   "version": "3.6.3"
  }
 },
 "nbformat": 4,
 "nbformat_minor": 2
}
