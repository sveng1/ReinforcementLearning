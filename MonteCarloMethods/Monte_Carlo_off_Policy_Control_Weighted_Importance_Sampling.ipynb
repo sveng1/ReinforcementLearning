{
 "cells": [
  {
   "cell_type": "markdown",
   "metadata": {},
   "source": [
    "# Monte Carlo off-policy control with weighted importance sampling"
   ]
  },
  {
   "cell_type": "code",
   "execution_count": 1,
   "metadata": {},
   "outputs": [],
   "source": [
    "import numpy as np\n",
    "import gym"
   ]
  },
  {
   "cell_type": "code",
   "execution_count": 2,
   "metadata": {},
   "outputs": [
    {
     "name": "stderr",
     "output_type": "stream",
     "text": [
      "/Library/Frameworks/Python.framework/Versions/3.6/lib/python3.6/site-packages/gym/envs/registration.py:14: PkgResourcesDeprecationWarning: Parameters to load are deprecated.  Call .resolve and .require separately.\n",
      "  result = entry_point.load(False)\n"
     ]
    }
   ],
   "source": [
    "env = gym.make('FrozenLake8x8-v0')"
   ]
  },
  {
   "cell_type": "code",
   "execution_count": 6,
   "metadata": {},
   "outputs": [],
   "source": [
    "#define behavior policy, mu, and target policy, pi\n",
    "def mu(state):\n",
    "    return np.random.randint(0,4)\n",
    "\n",
    "def pi(Q,state):\n",
    "    return Q[state,:].argmax()"
   ]
  },
  {
   "cell_type": "code",
   "execution_count": 7,
   "metadata": {},
   "outputs": [],
   "source": [
    "def mc_off_policy_weighted(n_episodes,env,gamma):\n",
    "    \n",
    "    n_states = env.observation_space.n\n",
    "    n_actions = env.action_space.n\n",
    "    \n",
    "    #initialize action-value function\n",
    "    Q = np.zeros((n_states,n_actions))\n",
    "    \n",
    "    #initialize counter (counting across episodes)\n",
    "    C = np.zeros((n_states,n_actions))\n",
    "    \n",
    "    for episode in range(n_episodes):\n",
    "        observation = env.reset()\n",
    "        state_action_reward_tuples = []\n",
    "        done = False\n",
    "        \n",
    "        #generate episode using mu\n",
    "        while not done:\n",
    "            action = mu(observation)\n",
    "            old_observation = observation\n",
    "            observation, reward, done, info = env.step(action)\n",
    "            state_action_reward_tuples.append((observation,action,reward))\n",
    "            \n",
    "        G = 0\n",
    "        W = 1\n",
    "        \n",
    "        for state,action,reward in state_action_reward_tuples[::-1]:\n",
    "            G = reward + gamma * G\n",
    "            C[state][action] += W\n",
    "            Q[state][action] += (W/C[state][action])*(G-Q[state][action])\n",
    "            if action != pi(Q,state):\n",
    "                break\n",
    "            W = W * 1/0.25\n",
    "            \n",
    "    return Q"
   ]
  },
  {
   "cell_type": "code",
   "execution_count": 8,
   "metadata": {},
   "outputs": [],
   "source": [
    "gamma = 0.9\n",
    "Q = mc_off_policy_weighted(20000,env,gamma)"
   ]
  },
  {
   "cell_type": "code",
   "execution_count": 9,
   "metadata": {},
   "outputs": [],
   "source": [
    "#Q"
   ]
  },
  {
   "cell_type": "code",
   "execution_count": 10,
   "metadata": {},
   "outputs": [],
   "source": [
    "def test(n_episodes,Q):\n",
    "    rewards = []\n",
    "    for i_episode in range(n_episodes):\n",
    "        observation = env.reset()\n",
    "        for t in range(100):\n",
    "            action = Q[observation,:].argmax()\n",
    "            observation, reward, done, info = env.step(action)\n",
    "            rewards.append(reward)\n",
    "            if done:\n",
    "                break\n",
    "    return np.mean(rewards)"
   ]
  },
  {
   "cell_type": "code",
   "execution_count": 13,
   "metadata": {},
   "outputs": [
    {
     "data": {
      "text/plain": [
       "0.0"
      ]
     },
     "execution_count": 13,
     "metadata": {},
     "output_type": "execute_result"
    }
   ],
   "source": [
    "test(20,Q)"
   ]
  },
  {
   "cell_type": "code",
   "execution_count": null,
   "metadata": {},
   "outputs": [],
   "source": []
  }
 ],
 "metadata": {
  "kernelspec": {
   "display_name": "Python 3",
   "language": "python",
   "name": "python3"
  },
  "language_info": {
   "codemirror_mode": {
    "name": "ipython",
    "version": 3
   },
   "file_extension": ".py",
   "mimetype": "text/x-python",
   "name": "python",
   "nbconvert_exporter": "python",
   "pygments_lexer": "ipython3",
   "version": "3.6.3"
  }
 },
 "nbformat": 4,
 "nbformat_minor": 2
}
