{
 "cells": [
  {
   "cell_type": "markdown",
   "metadata": {},
   "source": [
    "# Monte Carlo off-policy control with weighted importance sampling"
   ]
  },
  {
   "cell_type": "code",
   "execution_count": null,
   "metadata": {},
   "outputs": [],
   "source": [
    "import numpy as np\n",
    "import gym"
   ]
  },
  {
   "cell_type": "code",
   "execution_count": null,
   "metadata": {},
   "outputs": [],
   "source": [
    "env = gym.make('FrozenLake8x8-v0')"
   ]
  },
  {
   "cell_type": "code",
   "execution_count": null,
   "metadata": {},
   "outputs": [],
   "source": [
    "#define behavior policy, mu, and target policy, pi\n",
    "def mu(state):\n",
    "    return np.random.randint(0,4)\n",
    "\n",
    "def pi(Q,state):\n",
    "    return Q[observation,:].argmax()"
   ]
  },
  {
   "cell_type": "code",
   "execution_count": null,
   "metadata": {},
   "outputs": [],
   "source": [
    "def mc_off_policy_weighted(n_episodes,env,gamma):\n",
    "    \n",
    "    n_states = env.observation_space.n\n",
    "    n_actions = env.action_space.n\n",
    "    \n",
    "    #initialize action-value function\n",
    "    Q = np.zeros((n_states,n_actions))\n",
    "    \n",
    "    #initialize counter (counting across episodes)\n",
    "    C = np.zeros((n_states,n_actions))\n",
    "    \n",
    "    for episode in range(n_episodes):\n",
    "        observation = env.reset()\n",
    "        state_action_reward_tuples = []\n",
    "        done = False\n",
    "        \n",
    "        #generate episode using mu\n",
    "        while not done:\n",
    "            action = mu(observation)\n",
    "            old_observation = observation\n",
    "            observation, reward, done, info = env.step(action)\n",
    "            state_action_reward_tuples.append((observation,action,reward))\n",
    "            \n",
    "        G = 0\n",
    "        W = 1\n",
    "        \n",
    "        for state,action,reward in state_action_reward_tuples[::-1]:\n",
    "            G = reward + gamma * G\n",
    "            C[state][action] += W\n",
    "            Q[state][action] += (W/C[state][action])*(G-Q[state][action])\n",
    "            if action != pi(Q,state):\n",
    "                break\n",
    "            W = W * 1/0.25\n",
    "            \n",
    "    return Q"
   ]
  },
  {
   "cell_type": "code",
   "execution_count": null,
   "metadata": {},
   "outputs": [],
   "source": [
    "n_states = env.observation_space.n\n",
    "n_actions = env.action_space.n\n",
    "    \n",
    "    #initialize action-value function\n",
    "Q = np.zeros((n_states,n_actions))\n",
    "    \n",
    "    #initialize counter (counting across episodes)\n",
    "C = np.zeros((n_states,n_actions))\n",
    "    \n",
    "\n",
    "for episode in range(20000):\n",
    "    observation = env.reset()\n",
    "    state_action_reward_tuples = []\n",
    "    done = False\n",
    "    \n",
    "    #generate episode using mu\n",
    "    while not done:\n",
    "        action = mu(observation)\n",
    "        old_observation = observation\n",
    "        observation, reward, done, info = env.step(action)\n",
    "        state_action_reward_tuples.append((observation,action,reward))\n",
    "        \n",
    "    G = 0\n",
    "    W = 1\n",
    "    \n",
    "    for state,action,reward in state_action_reward_tuples[::-1]:\n",
    "        G = reward + gamma * G\n",
    "        C[state,action] += W\n",
    "        Q[state,action] += (W/C[state,action])*(G-Q[state,action])\n",
    "        if action != pi(Q,state):\n",
    "            break\n",
    "        W = W * 1/0.25"
   ]
  },
  {
   "cell_type": "code",
   "execution_count": null,
   "metadata": {},
   "outputs": [],
   "source": [
    "gamma = 0.9\n",
    "Q = mc_off_policy_weighted(20000,env,gamma)"
   ]
  },
  {
   "cell_type": "code",
   "execution_count": null,
   "metadata": {},
   "outputs": [],
   "source": [
    "Q"
   ]
  }
 ],
 "metadata": {
  "kernelspec": {
   "display_name": "Python 3",
   "language": "python",
   "name": "python3"
  },
  "language_info": {
   "codemirror_mode": {
    "name": "ipython",
    "version": 3
   },
   "file_extension": ".py",
   "mimetype": "text/x-python",
   "name": "python",
   "nbconvert_exporter": "python",
   "pygments_lexer": "ipython3",
   "version": "3.6.3"
  }
 },
 "nbformat": 4,
 "nbformat_minor": 2
}
