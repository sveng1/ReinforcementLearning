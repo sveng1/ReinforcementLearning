{
 "cells": [
  {
   "cell_type": "markdown",
   "metadata": {},
   "source": [
    "# Monte Carlo prediction"
   ]
  },
  {
   "cell_type": "code",
   "execution_count": 7,
   "metadata": {},
   "outputs": [],
   "source": [
    "import numpy as np\n",
    "import gym"
   ]
  },
  {
   "cell_type": "code",
   "execution_count": 2,
   "metadata": {},
   "outputs": [],
   "source": [
    "env = gym.make('FrozenLake8x8-v0')"
   ]
  },
  {
   "cell_type": "code",
   "execution_count": 3,
   "metadata": {},
   "outputs": [],
   "source": [
    "#define random policy\n",
    "def policy(state):\n",
    "    return np.random.randint(0,4)"
   ]
  },
  {
   "cell_type": "code",
   "execution_count": 4,
   "metadata": {},
   "outputs": [],
   "source": [
    "def mc_prediction(policy,n_episodes,env,gamma):\n",
    "    \n",
    "    n_states = env.observation_space.n\n",
    "    n_actions = env.observation_space.n\n",
    "    \n",
    "    #initialize state-value function\n",
    "    V = np.zeros((n_states))\n",
    "    N = np.zeros((n_states))\n",
    "    \n",
    "    for episode in range(n_episodes):\n",
    "        \n",
    "        observation = env.reset()\n",
    "        state_reward_pairs = []\n",
    "        \n",
    "        #generate episode (the agent gets 200 steps to reach the goal)\n",
    "        for t in range(200):\n",
    "            action = policy(observation)\n",
    "            old_observation = observation\n",
    "            observation, reward, done, info = env.step(action)\n",
    "            state_reward_pairs.append((old_observation,reward))\n",
    "            if done:\n",
    "                break\n",
    "        \n",
    "        #update values for visited states\n",
    "        G = 0\n",
    "        #loop over states going backwards from the terminal state\n",
    "        for state, reward in state_reward_pairs[::-1]:\n",
    "            G = reward + gamma * G \n",
    "            N[state] += 1\n",
    "            V[state] = (V[state] + G) / N[state]\n",
    "    \n",
    "    return V"
   ]
  },
  {
   "cell_type": "code",
   "execution_count": 5,
   "metadata": {},
   "outputs": [],
   "source": [
    "gamma = 0.9\n",
    "V = mc_prediction(policy,n_episodes=20000,env,gamma)"
   ]
  },
  {
   "cell_type": "code",
   "execution_count": 6,
   "metadata": {},
   "outputs": [
    {
     "data": {
      "text/plain": [
       "array([0.00000000e+000, 0.00000000e+000, 6.99792668e-290, 1.35822702e-114,\n",
       "       1.74377034e-034, 0.00000000e+000, 0.00000000e+000, 0.00000000e+000,\n",
       "       0.00000000e+000, 0.00000000e+000, 0.00000000e+000, 0.00000000e+000,\n",
       "       2.55704574e-029, 0.00000000e+000, 8.02590144e-315, 1.31565905e-284,\n",
       "       0.00000000e+000, 0.00000000e+000, 0.00000000e+000, 0.00000000e+000,\n",
       "       1.38245953e-015, 0.00000000e+000, 0.00000000e+000, 1.07292256e-165,\n",
       "       0.00000000e+000, 0.00000000e+000, 0.00000000e+000, 0.00000000e+000,\n",
       "       3.20419464e-014, 0.00000000e+000, 0.00000000e+000, 2.87477838e-054,\n",
       "       0.00000000e+000, 0.00000000e+000, 0.00000000e+000, 0.00000000e+000,\n",
       "       2.12192127e-009, 3.29047788e-006, 8.53629977e-004, 6.65024631e-004,\n",
       "       0.00000000e+000, 0.00000000e+000, 0.00000000e+000, 0.00000000e+000,\n",
       "       0.00000000e+000, 9.78804558e-052, 0.00000000e+000, 2.05480531e-003,\n",
       "       0.00000000e+000, 0.00000000e+000, 0.00000000e+000, 0.00000000e+000,\n",
       "       0.00000000e+000, 7.33699437e-016, 0.00000000e+000, 6.49350649e-003,\n",
       "       0.00000000e+000, 0.00000000e+000, 0.00000000e+000, 0.00000000e+000,\n",
       "       6.32180320e-010, 6.41752302e-010, 5.49839909e-003, 0.00000000e+000])"
      ]
     },
     "execution_count": 6,
     "metadata": {},
     "output_type": "execute_result"
    }
   ],
   "source": [
    "V"
   ]
  },
  {
   "cell_type": "code",
   "execution_count": null,
   "metadata": {},
   "outputs": [],
   "source": []
  }
 ],
 "metadata": {
  "kernelspec": {
   "display_name": "Python 3",
   "language": "python",
   "name": "python3"
  },
  "language_info": {
   "codemirror_mode": {
    "name": "ipython",
    "version": 3
   },
   "file_extension": ".py",
   "mimetype": "text/x-python",
   "name": "python",
   "nbconvert_exporter": "python",
   "pygments_lexer": "ipython3",
   "version": "3.6.3"
  }
 },
 "nbformat": 4,
 "nbformat_minor": 2
}
