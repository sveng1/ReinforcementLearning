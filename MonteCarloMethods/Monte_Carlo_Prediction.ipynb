{
 "cells": [
  {
   "cell_type": "markdown",
   "metadata": {},
   "source": [
    "# Monte Carlo prediction"
   ]
  },
  {
   "cell_type": "code",
   "execution_count": null,
   "metadata": {},
   "outputs": [],
   "source": [
    "import numpy as np\n",
    "import gym"
   ]
  },
  {
   "cell_type": "code",
   "execution_count": null,
   "metadata": {},
   "outputs": [],
   "source": [
    "env = gym.make('FrozenLake8x8-v0')"
   ]
  },
  {
   "cell_type": "code",
   "execution_count": null,
   "metadata": {},
   "outputs": [],
   "source": [
    "#define random policy\n",
    "def policy(state):\n",
    "    return np.random.randint(0,4)"
   ]
  },
  {
   "cell_type": "code",
   "execution_count": null,
   "metadata": {},
   "outputs": [],
   "source": [
    "def mc_prediction(n_episodes,env,gamma):\n",
    "    \n",
    "    n_states = env.observation_space.n\n",
    "    n_actions = env.observation_space.n\n",
    "    \n",
    "    #initialize state-value function\n",
    "    V = np.zeros((n_states))\n",
    "    N = np.zeros((n_states))\n",
    "    \n",
    "    for episode in range(n_episodes):\n",
    "        \n",
    "        observation = env.reset()\n",
    "        state_reward_pairs = []\n",
    "        \n",
    "        #generate episode (the agent gets 200 steps to reach the goal)\n",
    "        for t in range(200):\n",
    "            action = policy(observation)\n",
    "            old_observation = observation\n",
    "            observation, reward, done, info = env.step(action)\n",
    "            state_reward_pairs.append((old_observation,reward))\n",
    "            if done:\n",
    "                break\n",
    "                \n",
    "        G = 0\n",
    "        #loop over episodes going backwards from the terminal state\n",
    "        for state, reward in state_reward_pairs[::-1]:\n",
    "            G = reward + gamma * G \n",
    "            N[state] += 1\n",
    "            V[state] = (V[state] + G) / N[state]\n",
    "    \n",
    "    return V"
   ]
  },
  {
   "cell_type": "code",
   "execution_count": null,
   "metadata": {},
   "outputs": [],
   "source": [
    "gamma = 0.9\n",
    "V = mc_prediction(20000,env,gamma)"
   ]
  },
  {
   "cell_type": "code",
   "execution_count": null,
   "metadata": {},
   "outputs": [],
   "source": [
    "V"
   ]
  },
  {
   "cell_type": "code",
   "execution_count": null,
   "metadata": {},
   "outputs": [],
   "source": []
  }
 ],
 "metadata": {
  "kernelspec": {
   "display_name": "Python 3",
   "language": "python",
   "name": "python3"
  },
  "language_info": {
   "codemirror_mode": {
    "name": "ipython",
    "version": 3
   },
   "file_extension": ".py",
   "mimetype": "text/x-python",
   "name": "python",
   "nbconvert_exporter": "python",
   "pygments_lexer": "ipython3",
   "version": "3.6.3"
  }
 },
 "nbformat": 4,
 "nbformat_minor": 2
}
