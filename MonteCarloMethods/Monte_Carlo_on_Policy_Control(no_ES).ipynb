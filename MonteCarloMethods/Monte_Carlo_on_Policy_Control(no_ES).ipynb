{
 "cells": [
  {
   "cell_type": "code",
   "execution_count": null,
   "metadata": {},
   "outputs": [],
   "source": [
    "import numpy as np\n",
    "import gym"
   ]
  },
  {
   "cell_type": "code",
   "execution_count": null,
   "metadata": {},
   "outputs": [],
   "source": [
    "env = gym.make('FrozenLake8x8-v0')"
   ]
  },
  {
   "cell_type": "code",
   "execution_count": null,
   "metadata": {},
   "outputs": [],
   "source": [
    "#function to sample action according to soft policy\n",
    "def sample_action(policy):\n",
    "    return np.random.choice(len(policy),p=policy)"
   ]
  },
  {
   "cell_type": "code",
   "execution_count": null,
   "metadata": {},
   "outputs": [],
   "source": [
    "def mc_on_policy(n_episodes,env,gamma,epsilon):\n",
    "    \n",
    "    n_states = env.observation_space.n\n",
    "    n_actions = env.action_space.n\n",
    "    \n",
    "    #initialize action-value function\n",
    "    Q = np.zeros((n_states,n_actions))\n",
    "    \n",
    "    #initialize state-action visit counter\n",
    "    N = np.zeros((n_states,n_actions))\n",
    "    \n",
    "    #initialize E-soft policy\n",
    "    pi = np.ones((n_states,n_actions))/4\n",
    "    \n",
    "    for episode in range(n_episodes):\n",
    "        observation = env.reset()\n",
    "        state_action_reward_tuples = []\n",
    "        t = 0\n",
    "        done = False\n",
    "        while not done:\n",
    "            action = sample_action(pi[observation])\n",
    "            old_observation = observation\n",
    "            observation, reward, done, info = env.step(action)\n",
    "            state_action_reward_tuples.append((observation,action,reward))\n",
    "            t = t+1\n",
    "            if done or t == 99:\n",
    "                break\n",
    "        G = 0\n",
    "        visited_states = []\n",
    "        for state,action,reward in state_action_reward_tuples[::-1]:\n",
    "            visited_states.append(state)\n",
    "            G = reward + gamma * G\n",
    "            N[state][action] += 1\n",
    "            Q[state][action] = (Q[state][action] +G) / N[state][action]\n",
    "\n",
    "    for state in visited_states:\n",
    "        best_value = -10000000000\n",
    "        best_action = None\n",
    "        for action in range(n_actions):\n",
    "            if Q[state][action]>best_value:\n",
    "                best_value = Q[state][action]\n",
    "                best_action = action\n",
    "        \n",
    "        for action in range(n_actions):\n",
    "            pi[state,action] = epsilon/4\n",
    "            pi[state,best_action] = 1 - epsilon + epsilon/4\n",
    "            \n",
    "    return pi,Q"
   ]
  },
  {
   "cell_type": "code",
   "execution_count": null,
   "metadata": {},
   "outputs": [],
   "source": [
    "gamma = 0.9\n",
    "epsilon = 0.8\n",
    "pi, Q = mc_on_policy(20000,env,gamma,epsilon)"
   ]
  },
  {
   "cell_type": "code",
   "execution_count": null,
   "metadata": {},
   "outputs": [],
   "source": [
    "pi"
   ]
  },
  {
   "cell_type": "code",
   "execution_count": null,
   "metadata": {},
   "outputs": [],
   "source": [
    "Q"
   ]
  }
 ],
 "metadata": {
  "kernelspec": {
   "display_name": "Python 3",
   "language": "python",
   "name": "python3"
  },
  "language_info": {
   "codemirror_mode": {
    "name": "ipython",
    "version": 3
   },
   "file_extension": ".py",
   "mimetype": "text/x-python",
   "name": "python",
   "nbconvert_exporter": "python",
   "pygments_lexer": "ipython3",
   "version": "3.6.3"
  }
 },
 "nbformat": 4,
 "nbformat_minor": 2
}
