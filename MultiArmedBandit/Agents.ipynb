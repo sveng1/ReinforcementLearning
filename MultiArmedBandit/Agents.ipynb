{
 "cells": [
  {
   "cell_type": "markdown",
   "metadata": {},
   "source": [
    "# Different agents for the multi-armed bandit problem"
   ]
  },
  {
   "cell_type": "markdown",
   "metadata": {},
   "source": [
    "This notebook contains different learning agents for the multi-armed bandit problem: A random agent, an epsilon-greedy agent and an upper confidence bound agent"
   ]
  },
  {
   "cell_type": "code",
   "execution_count": null,
   "metadata": {},
   "outputs": [],
   "source": [
    "import gym\n",
    "import gym_bandits\n",
    "import pandas as pd\n",
    "import numpy as np"
   ]
  },
  {
   "cell_type": "code",
   "execution_count": null,
   "metadata": {},
   "outputs": [],
   "source": [
    "env = gym.make(\"BanditTenArmedGaussian-v0\")"
   ]
  },
  {
   "cell_type": "code",
   "execution_count": null,
   "metadata": {},
   "outputs": [],
   "source": [
    "print(\"States\",env.observation_space)\n",
    "print(\"Actions\",env.action_space)"
   ]
  },
  {
   "cell_type": "code",
   "execution_count": null,
   "metadata": {},
   "outputs": [],
   "source": [
    "class Agent:\n",
    "    def __init__(self,n_bandits):\n",
    "        self.n_bandits = n_bandits\n",
    "        self.reset()\n",
    "    def reset(self):\n",
    "        self.all_n = np.zeros(self.n_bandits)\n",
    "        self.all_Q = np.zeros(self.n_bandits)\n",
    "    def update(self,state,action,reward,t):\n",
    "        self.all_n[action]+=1\n",
    "        self.all_Q[action]+=(reward-self.all_Q[action])/self.all_n[action]"
   ]
  },
  {
   "cell_type": "code",
   "execution_count": null,
   "metadata": {},
   "outputs": [],
   "source": [
    "def run_multi_armed_bandit(env,time_steps,agent):\n",
    "    observation = env.reset()\n",
    "    agent.reset()\n",
    "    rewards = []\n",
    "    for t in range(time_steps):\n",
    "        action = agent.next_action(observation)\n",
    "        observation, reward, done, info = env.step(action)\n",
    "        agent.update(observation,action,reward,t)\n",
    "        rewards.append(reward)\n",
    "    rewards = np.array(rewards)\n",
    "    return np.mean(rewards)"
   ]
  },
  {
   "cell_type": "markdown",
   "metadata": {},
   "source": [
    "RANDOM AGENT"
   ]
  },
  {
   "cell_type": "code",
   "execution_count": null,
   "metadata": {},
   "outputs": [],
   "source": [
    "class RandomAgent(Agent):\n",
    "    def next_action(self,observation):\n",
    "        return np.random.randint(0,self.n_bandits)"
   ]
  },
  {
   "cell_type": "code",
   "execution_count": null,
   "metadata": {},
   "outputs": [],
   "source": [
    "random_agent = RandomAgent(n_bandits=10)"
   ]
  },
  {
   "cell_type": "markdown",
   "metadata": {},
   "source": [
    "GREEDY AGENT"
   ]
  },
  {
   "cell_type": "code",
   "execution_count": null,
   "metadata": {},
   "outputs": [],
   "source": [
    "class GreedyAgent(Agent):\n",
    "    def next_action(self,observation):\n",
    "        return self.all_Q.argmax()"
   ]
  },
  {
   "cell_type": "code",
   "execution_count": null,
   "metadata": {},
   "outputs": [],
   "source": [
    "greedy_agent = GreedyAgent(10)"
   ]
  },
  {
   "cell_type": "markdown",
   "metadata": {},
   "source": [
    "EPSILON-GREEDY AGENT"
   ]
  },
  {
   "cell_type": "code",
   "execution_count": null,
   "metadata": {},
   "outputs": [],
   "source": [
    "class EpsilonGreedyAgent(Agent):\n",
    "    def __init__(self,n_bandits,epsilon):\n",
    "        self.n_bandits = n_bandits\n",
    "        self.epsilon = epsilon\n",
    "        self.reset()\n",
    "    def next_action(self,observation):\n",
    "        if np.random.random()<self.epsilon:\n",
    "            return np.random.randint(self.n_bandits)\n",
    "        else:\n",
    "            return self.all_Q.argmax()"
   ]
  },
  {
   "cell_type": "code",
   "execution_count": null,
   "metadata": {},
   "outputs": [],
   "source": [
    "epsilon_greedy_agent = EpsilonGreedyAgent(10,0.1)"
   ]
  },
  {
   "cell_type": "markdown",
   "metadata": {},
   "source": [
    "UPPER CONFIDENCE BOUND AGENT"
   ]
  },
  {
   "cell_type": "code",
   "execution_count": null,
   "metadata": {},
   "outputs": [],
   "source": [
    "class UCB_LearningAgent:\n",
    "    def __init__(self, n_bandits):\n",
    "        self.n_bandits = n_bandits\n",
    "        self.reset()\n",
    "    def reset(self):\n",
    "        self.Q_all = np.random.rand(self.n_bandits)\n",
    "        self.N_all = np.ones(self.n_bandits) # intialize number of selections for all bandits as ones\n",
    "        self.ucb_all = np.array([self.Q_all[i] + np.sqrt(2*(np.log(1)/self.N_all[i])) for i in range(self.n_bandits)])\n",
    "    def update(self, observation,action, reward, t):\n",
    "        self.N_all[action]+=1 # increment number of selections for selected bandit (action)\n",
    "        self.Q_all[action]+=(reward - self.Q_all[action])/self.N_all[action] # update Q with the formula. Average so far\n",
    "        self.ucb_all = np.array([self.Q_all[i] + np.sqrt(2*(np.log(t)/self.N_all[i])) for i in range(10)])\n",
    "    def next_action(self,observation):\n",
    "        return self.ucb_all.argmax()"
   ]
  },
  {
   "cell_type": "code",
   "execution_count": null,
   "metadata": {},
   "outputs": [],
   "source": [
    "ucb_agent = UCB_LearningAgent(10)"
   ]
  },
  {
   "cell_type": "markdown",
   "metadata": {},
   "source": [
    "TESTING"
   ]
  },
  {
   "cell_type": "code",
   "execution_count": null,
   "metadata": {},
   "outputs": [],
   "source": [
    "print(\"Random agent\",run_multi_armed_bandit(env,1000,random_agent))\n",
    "print(\"Greedy agent\",run_multi_armed_bandit(env,1000,greedy_agent))\n",
    "print(\"Epsilon-greedy agent\",run_multi_armed_bandit(env,1000,epsilon_greedy_agent))\n",
    "print(\"Upper Confidence Bound agent\",run_multi_armed_bandit(env,1000,ucb_agent))"
   ]
  }
 ],
 "metadata": {
  "kernelspec": {
   "display_name": "Python 3",
   "language": "python",
   "name": "python3"
  },
  "language_info": {
   "codemirror_mode": {
    "name": "ipython",
    "version": 3
   },
   "file_extension": ".py",
   "mimetype": "text/x-python",
   "name": "python",
   "nbconvert_exporter": "python",
   "pygments_lexer": "ipython3",
   "version": "3.6.3"
  }
 },
 "nbformat": 4,
 "nbformat_minor": 2
}
