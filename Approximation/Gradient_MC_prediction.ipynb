{
 "cells": [
  {
   "cell_type": "code",
   "execution_count": 1,
   "metadata": {},
   "outputs": [],
   "source": [
    "import gym\n",
    "import numpy as np\n",
    "\n",
    "env = gym.make(\"CartPole-v0\")\n",
    "\n",
    "def random_policy():\n",
    "    return np.random.randint(2)\n",
    "\n",
    "def v_hat(s,w):\n",
    "    return np.dot(s,w)\n",
    "\n",
    "def gradient_MC_prediction(env,policy,n_episodes,alpha,gamma):\n",
    "    \n",
    "    #initialize weight vector\n",
    "    w = 0\n",
    "    \n",
    "    for n in range(n_episodes):\n",
    "        \n",
    "        observation = env.reset()\n",
    "        state_reward_pairs = []\n",
    "        \n",
    "        #generate episode with 200 time steps\n",
    "        for t in range(200):\n",
    "            action = policy()\n",
    "            old_observation = observation\n",
    "            observation, reward, done, info = env.step(action)\n",
    "            state_reward_pairs.append((old_observation,reward))\n",
    "            if done:\n",
    "                break\n",
    "        \n",
    "        #update values\n",
    "        G = 0\n",
    "        #loop over states, going backwards from the terminal state\n",
    "        for state, reward in state_reward_pairs[::-1]:\n",
    "            G = reward + gamma * G\n",
    "            gradient = state\n",
    "            w = w + alpha * (G - v_hat(state,w))*gradient\n",
    "    return w"
   ]
  },
  {
   "cell_type": "code",
   "execution_count": 2,
   "metadata": {},
   "outputs": [],
   "source": [
    "w = gradient_MC_prediction(env=env,policy=random_policy,n_episodes=1000,alpha=0.2,gamma=0.9)"
   ]
  },
  {
   "cell_type": "code",
   "execution_count": 3,
   "metadata": {},
   "outputs": [
    {
     "data": {
      "text/plain": [
       "array([11.6523881 ,  9.80457032, -4.43589506,  1.29644459])"
      ]
     },
     "execution_count": 3,
     "metadata": {},
     "output_type": "execute_result"
    }
   ],
   "source": [
    "w"
   ]
  },
  {
   "cell_type": "code",
   "execution_count": 4,
   "metadata": {},
   "outputs": [
    {
     "name": "stdout",
     "output_type": "stream",
     "text": [
      "alpha: 0.01 w: [-1.51909273 -2.98042069 -0.53084231 -1.49700245]\n",
      "alpha: 0.1 w: [-8.82191202 -2.68125932 -2.17090172  2.36366772]\n",
      "alpha: 0.2 w: [15.71433505  6.84398962 13.34459815 -2.32309068]\n",
      "alpha: 0.3 w: [-7.02615394  2.86014471  1.99652091 -3.52621992]\n",
      "alpha: 0.4 w: [24.75237855 -1.95356415 18.42406236  6.64008834]\n",
      "alpha: 0.5 w: [1609.21580031 -724.30903172 1643.23988688 -465.68414919]\n",
      "alpha: 0.6 w: [-5178.57756877  3061.33069874 -7456.08744277  -913.5801661 ]\n",
      "alpha: 0.8 w: [ 1.25582232e+41 -4.01048849e+40  1.44559618e+41 -2.81099432e+40]\n",
      "alpha: 0.9 w: [ 1.65721048e+17 -5.01969466e+16  1.58987919e+17 -4.46896342e+16]\n"
     ]
    }
   ],
   "source": [
    "alphas = [0.01,0.1,0.2,0.3,0.4,0.5,0.6,0.8,0.9]\n",
    "for alpha in alphas:\n",
    "    w = gradient_MC_prediction(env=env,policy=random_policy,n_episodes=1000,alpha=alpha,gamma=0.9)\n",
    "    print(\"alpha:\",alpha,\"w:\", w)"
   ]
  },
  {
   "cell_type": "markdown",
   "metadata": {},
   "source": [
    "When alpha is 0.5 or larger, the values of the weights become very large"
   ]
  },
  {
   "cell_type": "code",
   "execution_count": null,
   "metadata": {},
   "outputs": [],
   "source": []
  }
 ],
 "metadata": {
  "kernelspec": {
   "display_name": "Python 3",
   "language": "python",
   "name": "python3"
  },
  "language_info": {
   "codemirror_mode": {
    "name": "ipython",
    "version": 3
   },
   "file_extension": ".py",
   "mimetype": "text/x-python",
   "name": "python",
   "nbconvert_exporter": "python",
   "pygments_lexer": "ipython3",
   "version": "3.6.3"
  }
 },
 "nbformat": 4,
 "nbformat_minor": 2
}
