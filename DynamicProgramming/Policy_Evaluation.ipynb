{
 "cells": [
  {
   "cell_type": "code",
   "execution_count": null,
   "metadata": {},
   "outputs": [],
   "source": [
    "import numpy as np"
   ]
  },
  {
   "cell_type": "code",
   "execution_count": null,
   "metadata": {},
   "outputs": [],
   "source": [
    "#policy. When we are in state 0, we choose action 0, and when we are in state 1, we choose action 1.\n",
    "pi = {0:0,1:1}"
   ]
  },
  {
   "cell_type": "code",
   "execution_count": null,
   "metadata": {},
   "outputs": [],
   "source": [
    "p = {}\n",
    "#p[s,a]={(r,s'):P(r,s'|s,a)}\n",
    "p[(0,1)]={(-10,0):1}\n",
    "p[(1,1)]={(-10,0):1}\n",
    "p[(1,0)]={(-1,1):1}\n",
    "p[(0,0)]={(0,0):0.95,(0,1):0.05}"
   ]
  },
  {
   "cell_type": "code",
   "execution_count": 6,
   "metadata": {},
   "outputs": [
    {
     "data": {
      "text/plain": [
       "5.5"
      ]
     },
     "execution_count": 6,
     "metadata": {},
     "output_type": "execute_result"
    }
   ],
   "source": [
    "5*0.9+1"
   ]
  },
  {
   "cell_type": "code",
   "execution_count": null,
   "metadata": {},
   "outputs": [],
   "source": [
    "def policy_evaluation(policy,threshold,gamma):\n",
    "    #initialize value function as zeros\n",
    "    V = {i:0 for i in range(len(policy))}\n",
    "    print(V)\n",
    "    \n",
    "    difference_large = True\n",
    "    while difference_large:\n",
    "        #current value function becomes the old value function\n",
    "        V_old = V.copy()\n",
    "        difference_large = False\n",
    "        \n",
    "        #loop over states\n",
    "        for s in range(len(policy)):\n",
    "            V[s]=0\n",
    "            \n",
    "            #choose action based on policy and state\n",
    "            a = policy[s]\n",
    "            \n",
    "            for reward_and_next_state,prob in p[(s,a)].items():\n",
    "                reward = reward_and_next_state[0]\n",
    "                next_state = reward_and_next_state[1]\n",
    "                \n",
    "                V[s] += prob * (reward + gamma*(V_old[next_state]))\n",
    "            difference = np.abs(V[s] - V_old[s])\n",
    "            difference_large = difference_large or difference>threshold\n",
    "        print(V)\n",
    "    return V"
   ]
  },
  {
   "cell_type": "code",
   "execution_count": null,
   "metadata": {},
   "outputs": [],
   "source": [
    "V = policy_evaluation(pi,0.01,gamma=0.9)"
   ]
  },
  {
   "cell_type": "code",
   "execution_count": null,
   "metadata": {},
   "outputs": [],
   "source": [
    "V"
   ]
  },
  {
   "cell_type": "code",
   "execution_count": null,
   "metadata": {},
   "outputs": [],
   "source": []
  }
 ],
 "metadata": {
  "kernelspec": {
   "display_name": "Python 3",
   "language": "python",
   "name": "python3"
  },
  "language_info": {
   "codemirror_mode": {
    "name": "ipython",
    "version": 3
   },
   "file_extension": ".py",
   "mimetype": "text/x-python",
   "name": "python",
   "nbconvert_exporter": "python",
   "pygments_lexer": "ipython3",
   "version": "3.6.3"
  }
 },
 "nbformat": 4,
 "nbformat_minor": 2
}
