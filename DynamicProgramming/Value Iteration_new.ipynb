{
 "cells": [
  {
   "cell_type": "markdown",
   "metadata": {},
   "source": [
    "# Value Iteration"
   ]
  },
  {
   "cell_type": "code",
   "execution_count": 1,
   "metadata": {},
   "outputs": [],
   "source": [
    "import numpy as np"
   ]
  },
  {
   "cell_type": "code",
   "execution_count": 2,
   "metadata": {},
   "outputs": [],
   "source": [
    "# Transition probabilities\n",
    "p = {}\n",
    "#p[s,a]={(r,s'):P(r,s'|s,a)}\n",
    "\n",
    "p[(0,1)]={(-10,0):1}\n",
    "p[(1,1)]={(-10,0):1}\n",
    "p[(1,0)]={(-1,1):1}\n",
    "p[(0,0)]={(0,0):0.95,(0,1):0.05}\n",
    "\n",
    "# Possible states and actions\n",
    "states = [0,1]\n",
    "actions = [0,1]"
   ]
  },
  {
   "cell_type": "code",
   "execution_count": 3,
   "metadata": {},
   "outputs": [],
   "source": [
    "def value_iteration(p,states,actions,gamma):\n",
    "    # initialize state-value function as zeros\n",
    "    V = {0: 0, 1: 0}\n",
    "    counter = 0\n",
    "    Q = np.zeros((2,2))\n",
    "    \n",
    "    while True:\n",
    "        counter += 1\n",
    "        delta = 0\n",
    "        for s in states:\n",
    "            v = V[s]\n",
    "            values = []\n",
    "            #\n",
    "            #\n",
    "            for a in actions:\n",
    "                Q[s,a] = 0\n",
    "                for key, val in p[(s,a)].items():\n",
    "                    value = 0\n",
    "                    r = key[0]\n",
    "                    s_next = key[1]\n",
    "                    value += val*(r+gamma*V[s_next])\n",
    "                Q[s,a] = value\n",
    "                values.append(value)\n",
    "            V[s] = max(values)  \n",
    "            delta = max(delta, (v-V[s]))\n",
    "            \n",
    "        if delta < 0.001:\n",
    "            print(\"Stopped at iteration\",counter)\n",
    "            policy = {i:Q[i].argmax() for i in range(2)}\n",
    "            break\n",
    "    return V,Q,policy"
   ]
  },
  {
   "cell_type": "code",
   "execution_count": 4,
   "metadata": {},
   "outputs": [
    {
     "name": "stdout",
     "output_type": "stream",
     "text": [
      "Stopped at iteration 67\n"
     ]
    }
   ],
   "source": [
    "V,Q,pi = value_iteration(p,states,actions,0.9)"
   ]
  },
  {
   "cell_type": "code",
   "execution_count": 5,
   "metadata": {},
   "outputs": [
    {
     "name": "stdout",
     "output_type": "stream",
     "text": [
      "{0: -0.4495702477721416, 1: -9.991404955442832}\n",
      "[[ -0.44957025 -10.40457025]\n",
      " [ -9.99140496 -10.40461322]]\n",
      "{0: 0, 1: 0}\n"
     ]
    }
   ],
   "source": [
    "print(V)\n",
    "print(Q)\n",
    "print(pi)"
   ]
  }
 ],
 "metadata": {
  "kernelspec": {
   "display_name": "Python 3",
   "language": "python",
   "name": "python3"
  },
  "language_info": {
   "codemirror_mode": {
    "name": "ipython",
    "version": 3
   },
   "file_extension": ".py",
   "mimetype": "text/x-python",
   "name": "python",
   "nbconvert_exporter": "python",
   "pygments_lexer": "ipython3",
   "version": "3.6.3"
  }
 },
 "nbformat": 4,
 "nbformat_minor": 2
}
