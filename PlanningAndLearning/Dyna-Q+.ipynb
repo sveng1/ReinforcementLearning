{
 "cells": [
  {
   "cell_type": "code",
   "execution_count": 11,
   "metadata": {},
   "outputs": [],
   "source": [
    "import numpy as np\n",
    "\n",
    "#Deterministic environment for optimal maintenance problem\n",
    "#States: {0,1} Healthy, Faulty\n",
    "#Actions: {0,1} Do nothing, Repair\n",
    "#Rewards: -1,0,-10 \n",
    "p = np.zeros((2,2,2)).astype(int)\n",
    "#p[s,a]=(r,s')\n",
    "p[0,0]=[0,0]\n",
    "p[0,1]=[-10,0]\n",
    "p[1,0]=[-1,1]\n",
    "p[1,1]=[-10,0]\n",
    "\n",
    "def epsilon_greedy_pi(Q,state,epsilon):\n",
    "    if np.random.random() < epsilon:\n",
    "        return np.random.randint(2)\n",
    "    else:\n",
    "        return np.argmax(Q[state,:])\n",
    "\n",
    "def take_action(state_action):\n",
    "    return p[state_action]"
   ]
  },
  {
   "cell_type": "code",
   "execution_count": 12,
   "metadata": {},
   "outputs": [],
   "source": [
    "def DynaQ_plus(n, n_timestep, epsilon, alpha, gamma,k,model):\n",
    "    #Initialize action-value function\n",
    "    Q = np.zeros((2,2)).astype(int)\n",
    "    \n",
    "    #Model\n",
    "    \"\"\"if previous_model == False:\n",
    "        model = np.zeros((p.shape)).astype(int)\n",
    "    else:\n",
    "        model = previous_model\n",
    "    \"\"\"\n",
    "    time_since_taken = {(0,0):0,(0,1):0,(1,0):0,(1,1):0}\n",
    "    observed_s_a = {}\n",
    "    \n",
    "    for i in range(n_timestep):\n",
    "        #print(\"Iteration\",i)\n",
    "        #choose state and action\n",
    "        state = np.random.randint(2)\n",
    "        action = epsilon_greedy_pi(Q,state,epsilon)\n",
    "\n",
    "        #track if state action pair was visited\n",
    "        if state in observed_s_a:\n",
    "            if action not in observed_s_a[state]:\n",
    "                observed_s_a[state].append(action)\n",
    "        else:\n",
    "            observed_s_a[state] = [action]\n",
    "        \n",
    "        #track for how long state actions have not been visited\n",
    "        for key in time_since_taken:\n",
    "            if key == (state,action):\n",
    "                time_since_taken[key] = 0\n",
    "            else:\n",
    "                time_since_taken[key] +=1\n",
    "                \n",
    "        #Experience\n",
    "        reward, next_state = take_action((state,action))\n",
    "        \n",
    "        #Direct RL\n",
    "        Q[state,action] += alpha * (reward + gamma * np.argmax(Q[next_state,:])-Q[state,action])\n",
    "        \n",
    "        #Model learning\n",
    "        model[state,action] = [reward,next_state]\n",
    "\n",
    "        #Add bonus to state action pairs depending on time since visited\n",
    "        for s in [0,1]:\n",
    "            for a in [0,1]:\n",
    "                tau = time_since_taken[s,a]\n",
    "                bonus = k * np.sqrt(tau)\n",
    "                model[s,a][0] += bonus\n",
    "                  \n",
    "        #Planning\n",
    "        for j in range(n):\n",
    "            state = np.random.choice(list(observed_s_a.keys()))\n",
    "            action = np.random.choice(observed_s_a[state])\n",
    "            \n",
    "            reward, next_state = model[state,action]\n",
    "            Q[state,action] += alpha * (reward + gamma * np.argmax(Q[next_state,:]) - Q[state,action])\n",
    "    return Q,model\n",
    "    "
   ]
  },
  {
   "cell_type": "code",
   "execution_count": 13,
   "metadata": {},
   "outputs": [],
   "source": [
    "model = np.zeros((p.shape)).astype(int)\n",
    "Q , model= DynaQ_plus(5, 100, 0.3, 0.1, 0.9,0.1,model)"
   ]
  },
  {
   "cell_type": "code",
   "execution_count": 14,
   "metadata": {},
   "outputs": [
    {
     "data": {
      "text/plain": [
       "array([[ 0, -1],\n",
       "       [ 0,  0]])"
      ]
     },
     "execution_count": 14,
     "metadata": {},
     "output_type": "execute_result"
    }
   ],
   "source": [
    "Q"
   ]
  },
  {
   "cell_type": "code",
   "execution_count": 15,
   "metadata": {},
   "outputs": [
    {
     "data": {
      "text/plain": [
       "array([[[ 0,  0],\n",
       "        [-9,  0]],\n",
       "\n",
       "       [[-1,  1],\n",
       "        [ 0,  0]]])"
      ]
     },
     "execution_count": 15,
     "metadata": {},
     "output_type": "execute_result"
    }
   ],
   "source": [
    "model"
   ]
  },
  {
   "cell_type": "code",
   "execution_count": 16,
   "metadata": {},
   "outputs": [],
   "source": [
    "#Environment changes. It is now free to repair\n",
    "p = np.zeros((2,2,2)).astype(int)\n",
    "#p[s,a]=(r,s')\n",
    "p[0,0]=[0,0]\n",
    "\n",
    "#p[0,1]=[-10,0]\n",
    "p[0,1]=[10,0]\n",
    "\n",
    "p[1,0]=[-1,1]\n",
    "\n",
    "#p[1,1]=[-10,0]\n",
    "p[1,1]=[10,0]"
   ]
  },
  {
   "cell_type": "code",
   "execution_count": 17,
   "metadata": {},
   "outputs": [],
   "source": [
    "old_model = model"
   ]
  },
  {
   "cell_type": "code",
   "execution_count": 18,
   "metadata": {},
   "outputs": [],
   "source": [
    "new_Q, new_model = DynaQ_plus(5, 10, 0.1, 0.1, 0.9,0.1, old_model)"
   ]
  },
  {
   "cell_type": "code",
   "execution_count": 19,
   "metadata": {},
   "outputs": [
    {
     "data": {
      "text/plain": [
       "array([[0, 1],\n",
       "       [0, 0]])"
      ]
     },
     "execution_count": 19,
     "metadata": {},
     "output_type": "execute_result"
    }
   ],
   "source": [
    "new_Q"
   ]
  },
  {
   "cell_type": "code",
   "execution_count": 20,
   "metadata": {},
   "outputs": [
    {
     "data": {
      "text/plain": [
       "array([[[ 0,  0],\n",
       "        [10,  0]],\n",
       "\n",
       "       [[-1,  1],\n",
       "        [ 0,  0]]])"
      ]
     },
     "execution_count": 20,
     "metadata": {},
     "output_type": "execute_result"
    }
   ],
   "source": [
    "new_model"
   ]
  },
  {
   "cell_type": "code",
   "execution_count": null,
   "metadata": {},
   "outputs": [],
   "source": []
  }
 ],
 "metadata": {
  "kernelspec": {
   "display_name": "Python 3",
   "language": "python",
   "name": "python3"
  },
  "language_info": {
   "codemirror_mode": {
    "name": "ipython",
    "version": 3
   },
   "file_extension": ".py",
   "mimetype": "text/x-python",
   "name": "python",
   "nbconvert_exporter": "python",
   "pygments_lexer": "ipython3",
   "version": "3.6.3"
  }
 },
 "nbformat": 4,
 "nbformat_minor": 2
}
