{
 "cells": [
  {
   "cell_type": "code",
   "execution_count": 1,
   "metadata": {},
   "outputs": [],
   "source": [
    "import numpy as np\n",
    "\n",
    "#Deterministic environment for optimal maintenance problem\n",
    "#States: {0,1} Healthy, Faulty\n",
    "#Actions: {0,1} Do nothing, Repair\n",
    "#Rewards: -1,0,-10 \n",
    "p = np.zeros((2,2,2)).astype(int)\n",
    "#p[s,a]=(r,s')\n",
    "p[0,0]=[0,0]\n",
    "p[0,1]=[-10,0]\n",
    "p[1,0]=[-1,1]\n",
    "p[1,1]=[-10,0]\n",
    "\n",
    "def epsilon_greedy_pi(Q,state,epsilon):\n",
    "    if np.random.random() < epsilon:\n",
    "        return np.random.randint(2)\n",
    "    else:\n",
    "        return Q[state,:].argmax()\n",
    "\n",
    "def take_action(state_action):\n",
    "    return p[state_action]\n",
    "\n",
    "def DynaQ(n, n_timestep, epsilon, alpha, gamma):\n",
    "    #Initialize action-value function and model\n",
    "    Q = np.zeros((2,2)).astype(int)\n",
    "    model = np.zeros((p.shape)).astype(int)\n",
    "    observed_s_a = {}\n",
    "    \n",
    "    for i in range(n_timestep):\n",
    "        state = np.random.randint(2)\n",
    "        action = epsilon_greedy_pi(Q,state,epsilon)\n",
    "\n",
    "        #Experience\n",
    "        reward, next_state = take_action((state,action))\n",
    "        if state in observed_s_a:\n",
    "            observed_s_a[state].append(action)\n",
    "        else:\n",
    "            observed_s_a[state] = [action]\n",
    "        \n",
    "        #Direct RL\n",
    "        Q[state,action] += alpha * (reward + gamma * np.argmax(Q[next_state,:]) - Q[state,action])\n",
    "        \n",
    "        #Model learning\n",
    "        model[state,action] = [reward,next_state]\n",
    "        \n",
    "        #Planning\n",
    "        for j in range(n):\n",
    "            state = np.random.choice(list(observed_s_a.keys()))\n",
    "            action = np.random.choice(observed_s_a[state])\n",
    "            \n",
    "            reward, next_state = model[state,action]\n",
    "            Q[state,action] += alpha * (reward + gamma * np.argmax(Q[next_state,:]) - Q[state,action])\n",
    "    \n",
    "    return Q, model"
   ]
  },
  {
   "cell_type": "code",
   "execution_count": 2,
   "metadata": {},
   "outputs": [],
   "source": [
    "Q, model = DynaQ(n=5, n_timestep=100, epsilon=0.1, alpha=0.1, gamma=0.9)"
   ]
  },
  {
   "cell_type": "code",
   "execution_count": 3,
   "metadata": {},
   "outputs": [
    {
     "data": {
      "text/plain": [
       "array([[[  0,   0],\n",
       "        [-10,   0]],\n",
       "\n",
       "       [[ -1,   1],\n",
       "        [-10,   0]]])"
      ]
     },
     "execution_count": 3,
     "metadata": {},
     "output_type": "execute_result"
    }
   ],
   "source": [
    "model"
   ]
  },
  {
   "cell_type": "code",
   "execution_count": 5,
   "metadata": {},
   "outputs": [
    {
     "data": {
      "text/plain": [
       "array([[[ True,  True],\n",
       "        [ True,  True]],\n",
       "\n",
       "       [[ True,  True],\n",
       "        [ True,  True]]])"
      ]
     },
     "execution_count": 5,
     "metadata": {},
     "output_type": "execute_result"
    }
   ],
   "source": [
    "p == model"
   ]
  },
  {
   "cell_type": "code",
   "execution_count": null,
   "metadata": {},
   "outputs": [],
   "source": []
  }
 ],
 "metadata": {
  "kernelspec": {
   "display_name": "Python 3",
   "language": "python",
   "name": "python3"
  },
  "language_info": {
   "codemirror_mode": {
    "name": "ipython",
    "version": 3
   },
   "file_extension": ".py",
   "mimetype": "text/x-python",
   "name": "python",
   "nbconvert_exporter": "python",
   "pygments_lexer": "ipython3",
   "version": "3.6.3"
  }
 },
 "nbformat": 4,
 "nbformat_minor": 2
}
